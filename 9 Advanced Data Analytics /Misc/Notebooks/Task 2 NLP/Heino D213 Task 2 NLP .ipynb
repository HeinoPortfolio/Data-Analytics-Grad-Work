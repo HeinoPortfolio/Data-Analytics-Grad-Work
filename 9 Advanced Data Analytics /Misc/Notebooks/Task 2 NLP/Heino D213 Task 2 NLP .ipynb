{
 "cells": [
  {
   "cell_type": "markdown",
   "id": "f1928708",
   "metadata": {},
   "source": [
    "# D213 Advanced Data Analytics Task 2 - ???\n",
    "By Matthew Heino\n",
    "\n",
    "### Purpose:\n",
    "This is a Jupyter Notebook for the D213 assessment for Advanced Data Analysis. There are a few items that will be submitted with this assessment.   There will be a CSV, Jupyter Notebook, A PDF of the notebook, and a Word document that will have the written components of the assessment.  There will be some additional files:\n",
    "\n",
    "- The cleaned datasets (section C).\n",
    "- A PDF that is the Jupyter Notebook that has the executed code of the asessment.\n",
    "\n",
    "Concepts that will be explored in this notebook will be:\n",
    "\n",
    "- Creation of a neural network and natural langage processing.\n",
    "- Data preparation \n",
    "- Data transformation, transforming data into a form that can be used in a hierarchical clustering model.\n",
    "\n",
    "**Note 1:** Code that has references uses the APA citation can be found in sections G and H in the Word document.\n",
    "\n",
    "**Note2 :** There will be more detailed in the Word document that accompanies this Jupyter Notebook.  The informationincluded in the Notebook is for quick reference and is not intended to encompass the whole discussion about the section or the topic.  Please refer to the Word document that accompanies this Jupyter Notebook. \n",
    "\n",
    "**Note 3:** Most of the code included in this notebook was previous run in Spyder IDE and some of the diagnostic output will be omitted from this notebook to keep the notebook neater.  The original script can be supplied upon request. "
   ]
  },
  {
   "cell_type": "markdown",
   "id": "e851e189-afa1-4f21-a397-aa4a1cd25c74",
   "metadata": {},
   "source": [
    "# Background\n",
    "There are a few items that are submitted with this assessment.   There will be a CSV, Jupyter Notebook, A PDF of the notebook, and a Word document that has the written components of the assessment.\n",
    "\n",
    "The files used in this assessment come from the following website:\n",
    "[UCI Sentiment Labeled Sentences Data Set](https://archive.ics.uci.edu/dataset/331/sentiment+labelled+sentences).  There are three files used in this assessment. \n",
    "\n",
    "- amazon_cells_labelled.txt\n",
    "- imdb_labelled.txt\n",
    "- yelp_labelled.txt\n",
    "\n",
    "These files are text-based, so the reading in these files will be a little different than in previous assessments. These files are composed of two columns one column with text describing sentiment of how a customer has reacted to a product or service. The other is a label that is either a one or zero. A one indicates that the review was a positive sentiment and the zero can be used to indicate a negative sentiment.\n",
    "\n",
    "The total number of items is the following:\n",
    "\n",
    "- amazon_cells_labelled.txt - 1000 rows all non-null.\n",
    "- imdb_labelled.txt - 748 rows all non-null.\n",
    "- yelp_labelled.txt - 1000 rows all non-null.\n",
    "\n",
    "The rows in these files are composed of string and numeric data. No other data is incorprated within the files.\n",
    "\n",
    "**Note:**  These files must be in the same directory if you plan to run this notebook."
   ]
  },
  {
   "cell_type": "markdown",
   "id": "6ec734eb",
   "metadata": {},
   "source": [
    "# Part I: Research Question\n",
    "In this section, there will be a brief discussion about a research question that is answered using the supplied data.  There will be a brief discussion of the goals the analysis hopes to accomplish. There will be an identification of the type of neural network that will be used to answer the question in this section of the document.\n",
    "\n",
    "## A1. Research Question.\n",
    "The question that can be answered using the data provided by the university is the following:\n",
    "\n",
    "- The research question is it possible to gauge the positive and negative sentiments of customers based on the words they use to describe a product or a service? \n",
    "\n",
    "## A2. Objectives and Goals \n",
    "The data analysis objectives will be to see if it is possible to gauge the positive or negative sentiment by looking at the words that customers used to describe products or services.\n",
    "\n",
    "## A3. Identification of the Neural Network.\n",
    "For more information about the neural network created and employed in this assessment please refer to the Word document and the appropriate section (A3).\n"
   ]
  },
  {
   "cell_type": "markdown",
   "id": "fdd5f9a0",
   "metadata": {},
   "source": [
    "## Pre-assessment tasks:\n",
    "        \n",
    "        1. Read the data from the CSV.\n",
    "        2. Get a feel for what the data contains. Print the first five \n",
    "        rows of the data frame.\n",
    "        3. Print some information about the dataframe. "
   ]
  },
  {
   "cell_type": "code",
   "execution_count": 1,
   "id": "9dee5058-7808-4341-9564-6d7175435106",
   "metadata": {},
   "outputs": [],
   "source": [
    "# Insert Required libraries here.\n",
    "\n",
    "import matplotlib.pyplot as plt\n",
    "import nltk\n",
    "import pandas as pd\n",
    "import re\n",
    "\n",
    "from nltk.corpus import stopwords\n",
    "from nltk.probability import FreqDist\n",
    "from nltk.tokenize import RegexpTokenizer\n"
   ]
  },
  {
   "cell_type": "markdown",
   "id": "b4012d82-1844-4737-a7c8-1feb72df3430",
   "metadata": {},
   "source": [
    "### Functions Section\n",
    "Functions that will be used in the assessment will be located in this section of notebook."
   ]
  },
  {
   "cell_type": "code",
   "execution_count": 2,
   "id": "7fbe2ef1-c908-452f-93fc-fe6ef32e3517",
   "metadata": {},
   "outputs": [],
   "source": [
    "# Functions start here. #######################################################\n",
    "\n",
    "def look_at_connotation(review_df : pd.DataFrame(), word_list : list  ) -> None:\n",
    "   \n",
    "    \"\"\" Method to look at the connotations of words that may be found \n",
    "         in the text column\n",
    "    \n",
    "    Parameters:\n",
    "    -----------\n",
    "        review_df (pd.dataFrame): Dataframe that has all the text reviews \n",
    "                                  and the labels.\n",
    "         word_list(list):         List with  words to look at their connotation.\n",
    "    \n",
    "    Returns:\n",
    "    ---------\n",
    "        None\n",
    "        \n",
    "    \"\"\"\n",
    "    for wrd in word_list:\n",
    "        \n",
    "        print(\"\\nGood Connotation: \", wrd)\n",
    "        print(master_df[(master_df['text'].str.contains(wrd) >= 1) \n",
    "                        & (master_df['label'] == 1)].head(2))\n",
    "\n",
    "        print(\"\\nBad Connotation: \", wrd)\n",
    "        print(master_df[(master_df['text'].str.contains(wrd) >= 1) \n",
    "                & (master_df['label'] == 0)].head(2))\n",
    "        print(\"\\n ######################################\")\n",
    "\n",
    "###############################################################################\n",
    "\n",
    "def remove_extra_space(rev_text: str) -> str:\n",
    "    \n",
    "    \"\"\" Method to remove theextra spaces from the review text in the 'text' \n",
    "         column of the dataframe. \n",
    "    \n",
    "    Parameters:\n",
    "    -----------\n",
    "        rev_text (str):         The review text with punctuation.\n",
    "    \n",
    "    Returns:\n",
    "    -------\n",
    "        number_remove(str):    The review text with the extra spaces removed from \n",
    "                               the text. \n",
    "        \n",
    "    \"\"\"\n",
    "    \n",
    "    space_removed = re.sub(' +', ' ', rev_text)\n",
    "    \n",
    "    return space_removed\n",
    "\n",
    "###############################################################################\n",
    "\n",
    "def remove_numbers(rev_text: str) -> str:\n",
    "\n",
    "    \"\"\" Method to remove the numbers from the review text in the 'text' \n",
    "         column of the dataframe. \n",
    "    \n",
    "    Parameters:\n",
    "    -----------\n",
    "        rev_text (str):           The review text with punctuation.\n",
    "    \n",
    "    Returns:\n",
    "    -------\n",
    "        number_remove(str):     The review text with the numbers removed from \n",
    "                               the text. \n",
    "        \n",
    "    \"\"\"\n",
    "    \n",
    "    number_removed = \"\".join(num for num in rev_text if not num.isdigit())\n",
    "    \n",
    "    return number_removed\n",
    "\n",
    "###############################################################################\n",
    "\n",
    "def remove_punctuation(rev_text: str) -> str:\n",
    "    \n",
    "    \"\"\" Method to remove the punctuation from the review text in the 'text' \n",
    "         column of the dataframe. \n",
    "    \n",
    "    Parameters:\n",
    "    -----------\n",
    "        rev_text (str):           The review text with punctuation.\n",
    "    \n",
    "    Returns:\n",
    "    -------\n",
    "       punct_removed(str):     The review text with the punctuation removed from \n",
    "                               the text. \n",
    "        \n",
    "    \"\"\"\n",
    "    punct_removed = \"\".join(rem for rem in rev_text if rem not in('?','.',';'\n",
    "                        ,':', '!', '\"', ',','/','#','%','(',')','*','+','-'\n",
    "                        , '<', '>', '@', '[',']', \"\\\\\",'~', '`', '_','{'\n",
    "                        , '}', \"|\", '-' ))\n",
    "    \n",
    "    return punct_removed\n",
    "        \n",
    "###############################################################################"
   ]
  },
  {
   "cell_type": "markdown",
   "id": "3c74b12d-c02c-40b5-8b7c-74d34c10e849",
   "metadata": {},
   "source": [
    "Read in the data from the text files. \n",
    "\n",
    "**Note:** there are no headers on these files, so the header argument will set  to None.  The code that is included in this section was previously tested in Spyder.  No output will be included."
   ]
  },
  {
   "cell_type": "code",
   "execution_count": 3,
   "id": "5bbf4ff8-59aa-4707-975d-7d54fa93de41",
   "metadata": {},
   "outputs": [],
   "source": [
    "col_names = ['text','label']\n",
    "\n",
    "# Amazon. **********************************************************************\n",
    "amazon_df =  pd.read_csv('amazon_cells_labelled.txt', sep='\\t', names=col_names\n",
    "                         , header=None)\n",
    "\n",
    "# IMDB. ***********************************************************************\n",
    "imdb_df =  pd.read_csv('imdb_labelled.txt', sep='\\t', names=col_names, header=None)\n",
    "\n",
    "# Yelp. ***********************************************************************\n",
    "yelp_df =  pd.read_csv('yelp_labelled.txt', sep='\\t', names=col_names, header=None)\n"
   ]
  },
  {
   "cell_type": "code",
   "execution_count": 4,
   "id": "1638303e-4c70-4311-9fad-f448c64dc5c3",
   "metadata": {},
   "outputs": [],
   "source": [
    "# Concatenate the Dataframe into one data frame and set the index.*************\n",
    "master_df = pd.concat([amazon_df, imdb_df, yelp_df])"
   ]
  },
  {
   "cell_type": "markdown",
   "id": "976d678d-7210-4769-b98e-3c48b7b7568f",
   "metadata": {},
   "source": [
    "#### Reset the index to make it easier to reference in the future, otherwise  the indexes from the previous files will still be in place."
   ]
  },
  {
   "cell_type": "code",
   "execution_count": 5,
   "id": "fea690ab-8a55-4b14-9968-ab9fd2cedd50",
   "metadata": {},
   "outputs": [],
   "source": [
    "master_df = master_df.reset_index(drop=True)"
   ]
  },
  {
   "cell_type": "code",
   "execution_count": 6,
   "id": "07f3c69a-a7d2-4b18-8664-b0c8856ffc34",
   "metadata": {},
   "outputs": [
    {
     "name": "stdout",
     "output_type": "stream",
     "text": [
      "text     As for the service, I thought it was good.\n",
      "label                                             1\n",
      "Name: 2477, dtype: object\n"
     ]
    }
   ],
   "source": [
    "# Print one element out of the dataframe to confirm it is accessible via index.\n",
    "print(master_df.iloc[2477])"
   ]
  },
  {
   "cell_type": "markdown",
   "id": "cbcccb48",
   "metadata": {},
   "source": [
    "# Part II: Data Preparation\n",
    "This section will handle the preparation of the data. There will be some exploration of the data and will include other information. There will be a tokenization discussion of why it happens and why it is required. There will be a discussion about the padding process.  An identification of the number of categories of sentiment. An explanation of the steps used to clean the data.  \n",
    "\n",
    "## B1. Exploration of the Data.\n",
    "\n",
    "This section will look at the follwing items: \n",
    "\n",
    "- presence of unusual characters\n",
    "- vocabulary size\n",
    "- proposed word embedding length\n",
    "- statistical justification for the chosen sequence length\n",
    "\n",
    "????????????????????????????????????????????????????????????????????????????"
   ]
  },
  {
   "cell_type": "markdown",
   "id": "a6696c01-d17f-4f79-b7e4-88dbea0fdabb",
   "metadata": {},
   "source": [
    "Explore the data within the dataframe and get some information about it. Print a few of the elements in the dataframe randomly."
   ]
  },
  {
   "cell_type": "code",
   "execution_count": 7,
   "id": "ba904afa-8343-499d-a81a-5fb8303c98e8",
   "metadata": {},
   "outputs": [],
   "source": [
    "#master_df.info()"
   ]
  },
  {
   "cell_type": "code",
   "execution_count": 8,
   "id": "3091a15c-e894-418b-8c41-d37cbda3fe3d",
   "metadata": {},
   "outputs": [],
   "source": [
    "#master_df.sample(10, random_state=2477)"
   ]
  },
  {
   "cell_type": "markdown",
   "id": "39963f0e-b719-4d98-82dd-2ce073e49238",
   "metadata": {},
   "source": [
    "Look at the distribution of the labels.  To see how many belong each label.  The labels in the data are either one (1) or a zero (0). These labels correspond to either a negative (0) or positive (1) sentiment."
   ]
  },
  {
   "cell_type": "code",
   "execution_count": 9,
   "id": "77fd613b-cbb0-4c91-bf3b-c43ce9dac1e1",
   "metadata": {},
   "outputs": [
    {
     "data": {
      "text/plain": [
       "label\n",
       "1    1386\n",
       "0    1362\n",
       "Name: count, dtype: int64"
      ]
     },
     "execution_count": 9,
     "metadata": {},
     "output_type": "execute_result"
    }
   ],
   "source": [
    "master_df['label'].value_counts()"
   ]
  },
  {
   "cell_type": "markdown",
   "id": "f781ff9b-3b78-48a6-b20d-3926f69ba729",
   "metadata": {},
   "source": [
    "#### Create a data visual to show the distribution of the labels."
   ]
  },
  {
   "cell_type": "code",
   "execution_count": 10,
   "id": "beacafde-d08a-4317-b6b9-bc4d3f8e0479",
   "metadata": {},
   "outputs": [
    {
     "data": {
      "text/plain": [
       "<Axes: title={'center': 'Count of Sentiment Labels'}, xlabel='Sentiment Label', ylabel='Count Per Label'>"
      ]
     },
     "execution_count": 10,
     "metadata": {},
     "output_type": "execute_result"
    },
    {
     "data": {
      "image/png": "[encoded data removed]",
      "text/plain": [
       "<Figure size 640x480 with 1 Axes>"
      ]
     },
     "metadata": {},
     "output_type": "display_data"
    }
   ],
   "source": [
    "plt.title(\"Count of Sentiment Labels\")\n",
    "plt.xlabel(\"Sentiment Lable\")\n",
    "pd.value_counts(master_df['label']).plot.bar(color=['b', 'g']\n",
    "                                             , xlabel='Sentiment Label'\n",
    "                                             , ylabel='Count Per Label')"
   ]
  },
  {
   "cell_type": "markdown",
   "id": "ecf4cda3-e23e-48f4-8482-2813ee103df2",
   "metadata": {},
   "source": [
    "#### Look at words that can carry both a negative and postive connotation.  For example: bizarre, good, bad, great, , cheap, smell, aroma,"
   ]
  },
  {
   "cell_type": "code",
   "execution_count": 11,
   "id": "b6c02def-6129-4de6-9e5a-e87c755f56d7",
   "metadata": {},
   "outputs": [],
   "source": [
    "word_list = ['bizarre','good','bad','great','firm','cheap','smell','aroma','thrifty']\n",
    "\n",
    "#look_at_connotation(master_df, word_list)"
   ]
  },
  {
   "cell_type": "markdown",
   "id": "f01a6e6e-e139-4e1c-b88f-b2a72a62f982",
   "metadata": {},
   "source": [
    "### Begin cleaning the data for further analysis. \n",
    "\n",
    "This is where the data will begin to be cleaned to be ready for use in the model.  This will accomplist removing punctuation, changing the text\n",
    "to lowercase, tokenizing the data, and lemmatizing the data.\n",
    "\n",
    "More information will be found in the Word document about cleaning the data (See section B).\n",
    "\n",
    "#### Remove the punctuation from the review text and replace the current  string in the \"text\" column with it. "
   ]
  },
  {
   "cell_type": "code",
   "execution_count": 12,
   "id": "f98ed4f1-57d2-4c87-b6b7-80cc828a8d9a",
   "metadata": {},
   "outputs": [],
   "source": [
    "#change to loc[25]\n",
    "\n",
    "#print(\"BEFORE: {}\".format(master_df['text'].loc[57]))\n",
    "\n",
    "# Apply the function across all rows of the 'text' column.\n",
    "master_df['text'] = master_df['text'].apply(remove_punctuation)\n",
    "\n",
    "#print(\"AFTER: {}\".format(master_df['text'].loc[57]))"
   ]
  },
  {
   "cell_type": "markdown",
   "id": "2f64763c-1832-4b41-b03d-04f32e895a55",
   "metadata": {},
   "source": [
    "#### Remove the numbers from the review text and replace the current string in the \"text\" column with it. "
   ]
  },
  {
   "cell_type": "code",
   "execution_count": 13,
   "id": "3e7d7d7d-28c5-42da-8668-750c6e1c977d",
   "metadata": {},
   "outputs": [],
   "source": [
    "#print(\"BEFORE: {}\".format(master_df['text'].loc[25]))\n",
    "\n",
    "master_df['text'] = master_df['text'].apply(remove_numbers)\n",
    "\n",
    "#print(\"AFTER: {}\".format(master_df['text'].loc[25]))"
   ]
  },
  {
   "cell_type": "markdown",
   "id": "c728461a-a022-445b-976e-fd94839bc1c5",
   "metadata": {},
   "source": [
    "#### Remove the extra spaces from the review text and replace the current string in the \"text\" column with it.\n",
    "\n",
    "**Note:** Was unsure if the extra spaces would cause problems.  Unable to find adequate information about this dilemma."
   ]
  },
  {
   "cell_type": "code",
   "execution_count": 14,
   "id": "9bee1929-46e6-4e36-b264-5606f9ab3f7e",
   "metadata": {},
   "outputs": [],
   "source": [
    "#print(\"BEFORE: {}\".format(master_df['text'].loc[25]))\n",
    "\n",
    "master_df['text'] = master_df['text'].apply(remove_extra_space)\n",
    "\n",
    "#print(\"AFTER : {}\".format(master_df['text'].loc[25]))"
   ]
  },
  {
   "cell_type": "markdown",
   "id": "50ca2c1f-646b-4875-9df1-dd7ce1b863e2",
   "metadata": {},
   "source": [
    "#### Change the review text from upper to lowercase and replace the current string in the \"text\" column with it.\n",
    "\n",
    "This to make sure that same words are identified and are treated the same."
   ]
  },
  {
   "cell_type": "code",
   "execution_count": 15,
   "id": "85b16523-4fb4-463d-ab24-1202b2eefa71",
   "metadata": {},
   "outputs": [],
   "source": [
    "#print(\"BEFORE: {}\".format(master_df['text'].loc[25]))\n",
    "\n",
    "master_df['text'] = master_df['text'].astype(str).str.lower() \n",
    "\n",
    "#print(\"AFTER : {}\".format(master_df['text'].loc[25]))"
   ]
  },
  {
   "cell_type": "markdown",
   "id": "3955a657-c5e5-46f8-a0b7-2e07da982d2d",
   "metadata": {},
   "source": [
    "## B2. Goals of Tokenization.\n",
    "\n",
    "In this section there will be the code that was used to tokenize the data.  For more information please refer to Word document. "
   ]
  },
  {
   "cell_type": "markdown",
   "id": "04ac225c-3b6d-4666-98f7-867f9df1d380",
   "metadata": {},
   "source": [
    "### Begin to tokenize the words in the text column of the dataframe.\n",
    "\n",
    "Tokenize the text column into smaller components.  This process wil be discussed in the Word document in this section.\n"
   ]
  },
  {
   "cell_type": "code",
   "execution_count": 16,
   "id": "10860f52-b01f-43dd-8683-8765a45d1e2a",
   "metadata": {},
   "outputs": [],
   "source": [
    "reg_exp = RegexpTokenizer('\\w+')\n",
    "\n",
    "#print(\"BEFORE: {}\".format(master_df['text'].loc[57]))\n",
    "\n",
    "master_df['token_text'] = master_df['text'].apply(reg_exp.tokenize)\n",
    "\n",
    "#print(\"AFTER : {}\".format(master_df['token_text'].loc[57]))"
   ]
  },
  {
   "cell_type": "markdown",
   "id": "b46cb98f-0fd9-4dcc-9113-23df615c6699",
   "metadata": {},
   "source": [
    "### Remove the stopwords. \n",
    "\n",
    "These stopwords will be downloaded from the **nltk**. It may be required to run an additional command that has been commented out below.thestopwords has been saved in its variable.  Tried to store in stopwords but received a warning about redfinition of this variable."
   ]
  },
  {
   "cell_type": "code",
   "execution_count": 17,
   "id": "6a0b8779-27fe-48fb-9410-3d418d98ad84",
   "metadata": {},
   "outputs": [],
   "source": [
    "#nltk.download('stopwords') # Uncomment to download the list of stopwords.\n",
    "\n",
    "stop_words = nltk.corpus.stopwords.words(\"english\")\n",
    "\n",
    "# print(stop_words[0:30])\n"
   ]
  },
  {
   "cell_type": "code",
   "execution_count": 18,
   "id": "52d20d86-f5c6-4ada-8731-fa912e1811c7",
   "metadata": {},
   "outputs": [],
   "source": [
    "#print(\"BEFORE: {}\".format(master_df['text'].loc[57]))\n",
    "\n",
    "master_df['token_text'] = master_df['token_text'].apply(lambda sw : \n",
    "                                                        [word for word in sw if word not in stop_words])\n",
    "\n",
    "#print(\"AFTER : {}\".format(master_df['token_text'].loc[57]))"
   ]
  },
  {
   "cell_type": "markdown",
   "id": "16c7eef4-d43f-469a-bb44-e85d720ffebd",
   "metadata": {},
   "source": [
    "### Remove words that do not show up often."
   ]
  },
  {
   "cell_type": "code",
   "execution_count": 20,
   "id": "44f66f43-f463-46cc-b642-ae4558fccbe3",
   "metadata": {},
   "outputs": [],
   "source": [
    "#print(\"REVIEW WORD STRING: {}\".format(master_df['token_text'].loc[57]))\n",
    "\n",
    "master_df['review_word_str'] =master_df['token_text'].apply(lambda rws : \n",
    "            ' '.join([wrd for wrd in rws if len(wrd) > 2]))\n",
    "\n",
    "#print(\"REVIEW WORD STRING: {}\".format(master_df['review_word_str'].loc[57]))"
   ]
  },
  {
   "cell_type": "markdown",
   "id": "d1dda5f5-ed0c-43a3-973b-df56ea2e0207",
   "metadata": {},
   "source": [
    "#### Create a list with all the words.  This is to be used to show the frequency of the words that are in the data. \n",
    "**Note:** May need to run the commented command to download 'punkt'."
   ]
  },
  {
   "cell_type": "code",
   "execution_count": 21,
   "id": "14774221-50b4-4c5a-a76a-6c1f87cc4f36",
   "metadata": {},
   "outputs": [],
   "source": [
    "#nltk.download('punkt')\n",
    "\n",
    "# Create a list with all the words.  This is to be used to show the \n",
    "# frequency of the words that are in the data. \n",
    "\n",
    "all_words_str = ' '. join([token for token in master_df['review_word_str']])\n",
    "\n",
    "tokenized_words = nltk.tokenize.word_tokenize(all_words_str)\n",
    "\n",
    "freq_dist = FreqDist(tokenized_words)\n"
   ]
  },
  {
   "cell_type": "code",
   "execution_count": 22,
   "id": "d27f8ef0-1367-435d-b58e-ce2aca095ba9",
   "metadata": {},
   "outputs": [
    {
     "name": "stdout",
     "output_type": "stream",
     "text": [
      "<FreqDist with 5051 samples and 17691 outcomes>\n"
     ]
    }
   ],
   "source": [
    "print(freq_dist) "
   ]
  },
  {
   "cell_type": "code",
   "execution_count": 23,
   "id": "f72c1a48-0cd3-4577-a7f7-9c75e7b10190",
   "metadata": {},
   "outputs": [
    {
     "data": {
      "text/plain": [
       "FreqDist({'good': 228, 'great': 207, 'movie': 178, 'phone': 165, 'film': 158, 'one': 144, 'food': 124, 'like': 123, 'place': 114, 'time': 111, ...})"
      ]
     },
     "execution_count": 23,
     "metadata": {},
     "output_type": "execute_result"
    }
   ],
   "source": [
    "freq_dist"
   ]
  },
  {
   "cell_type": "markdown",
   "id": "6bab5e24-275e-4c45-aa5b-2d03198ca060",
   "metadata": {},
   "source": [
    "#### Drop words that do not show in the frequency below a certain amount.\n",
    "This will thin the number of words that do noa have any bearing going forward with the \n",
    "creation of the wordcloud and other analysis."
   ]
  },
  {
   "cell_type": "code",
   "execution_count": 24,
   "id": "62afa906-3a69-4552-8832-3207afda86b1",
   "metadata": {},
   "outputs": [
    {
     "name": "stdout",
     "output_type": "stream",
     "text": [
      "REVIEW WORD STRING (After): good stuff price\n",
      "REVIEW WORD STRING [freq_dist_str] (After): good stuff price\n"
     ]
    }
   ],
   "source": [
    "minimum = 1\n",
    "\n",
    "master_df['freq_dist_str'] = master_df['token_text'].apply(\n",
    "    lambda fd: ' '.join([word for word in fd if freq_dist[word] >= minimum])  )\n",
    "\n",
    "print(\"REVIEW WORD STRING (After): {}\"\n",
    "      .format(master_df['review_word_str'].loc[136]))\n",
    "\n",
    "print(\"REVIEW WORD STRING [freq_dist_str] (After): {}\"\n",
    "      .format(master_df['freq_dist_str'].loc[136]))"
   ]
  },
  {
   "cell_type": "code",
   "execution_count": null,
   "id": "2712a59f-d45a-488d-9927-47e6bcaa5d40",
   "metadata": {},
   "outputs": [],
   "source": []
  },
  {
   "cell_type": "markdown",
   "id": "5b318a24-0e71-45e5-a0cd-01c80bce7f5b",
   "metadata": {},
   "source": [
    "### Lemmatize the words to get similar word roots."
   ]
  },
  {
   "cell_type": "code",
   "execution_count": 25,
   "id": "f5f3a6c4-ceed-4b41-b600-4df69ed60195",
   "metadata": {},
   "outputs": [],
   "source": [
    "# INSERT CODE HERE "
   ]
  },
  {
   "cell_type": "markdown",
   "id": "45113b70-cd08-4408-9cf5-917980cc88dd",
   "metadata": {},
   "source": [
    "## B3. The Padding Process.\n",
    "\n",
    "This section will handle the padding process and what it entails.  For in depth information please refer to the Word document.\n"
   ]
  },
  {
   "cell_type": "code",
   "execution_count": 26,
   "id": "05422e66-a438-402c-8257-a6158696747a",
   "metadata": {},
   "outputs": [],
   "source": [
    "# INSERT CODE HERE "
   ]
  },
  {
   "cell_type": "markdown",
   "id": "27fd2590-a4ad-42c8-a904-3000579ac70e",
   "metadata": {},
   "source": [
    "## B4. Identify the Number of Categories of Sentiment.\n",
    "\n",
    "This section handles the identification of the number of categories.  Please refer to the word document for more information "
   ]
  },
  {
   "cell_type": "code",
   "execution_count": 27,
   "id": "d18e7ba1-b174-400f-b7c9-dc6fc620f76c",
   "metadata": {},
   "outputs": [],
   "source": [
    "# INSERT CODE HERE "
   ]
  },
  {
   "cell_type": "markdown",
   "id": "caa5a436-1411-4a47-a139-42778bc8b3cf",
   "metadata": {},
   "source": [
    "## B5. Steps Used to Clean the Data.\n",
    "\n",
    "This will be covered in the Word document.  This will not be discussed in the Jupyter Notebook.\n"
   ]
  },
  {
   "cell_type": "markdown",
   "id": "36cc2b0a-994c-4157-84ec-4dac5d963713",
   "metadata": {},
   "source": [
    "## B6. Copy of the Prepared Dataset. \n",
    "\n",
    "The cleaned dataset can be found in the following CSV file:\n",
    "\n",
    "- ?????????????????????????????????????????????????????????????????????????????????????????????????????????"
   ]
  },
  {
   "cell_type": "code",
   "execution_count": 28,
   "id": "46d60251-c3ba-46ac-b5db-84f1856ff99e",
   "metadata": {},
   "outputs": [],
   "source": [
    "# INSERT CODE HERE "
   ]
  },
  {
   "cell_type": "code",
   "execution_count": 29,
   "id": "4f829894-2024-4227-aacc-d15886e3b842",
   "metadata": {},
   "outputs": [],
   "source": [
    "# INSERT CODE HERE "
   ]
  },
  {
   "cell_type": "code",
   "execution_count": 30,
   "id": "aa6c9484",
   "metadata": {},
   "outputs": [],
   "source": [
    "# INSERT CODE HERE "
   ]
  },
  {
   "cell_type": "markdown",
   "id": "51b3a840",
   "metadata": {},
   "source": [
    "# Part III: The Neural Network Architecture\n",
    "This section will provide the output of the model. There will be a discssion of the layers of the model. The will be a justification of the hyperparameters used to create or fine tune the model. \n"
   ]
  },
  {
   "cell_type": "markdown",
   "id": "85a6f355-b36f-45f0-a7b0-aeed53fe2137",
   "metadata": {},
   "source": [
    "## C1. Output of the Model \n",
    "This section will provide output and summay function of the model.\n",
    "\n",
    "???????????????????????????????????????????????????????????"
   ]
  },
  {
   "cell_type": "code",
   "execution_count": 31,
   "id": "e4fc1a58",
   "metadata": {},
   "outputs": [],
   "source": [
    "## Insert code here"
   ]
  },
  {
   "cell_type": "markdown",
   "id": "3836b545-1ea1-4d12-b8e3-666ab606bf25",
   "metadata": {},
   "source": [
    "## C2. Number of Layers of the Model.\n",
    "\n",
    "This discussion will be found in the Word document.  \n",
    "\n",
    "?????????????????????????????????????????????????"
   ]
  },
  {
   "cell_type": "code",
   "execution_count": 32,
   "id": "1bb576cc",
   "metadata": {},
   "outputs": [],
   "source": [
    "## Insert code here"
   ]
  },
  {
   "cell_type": "markdown",
   "id": "a8cd9396-2c8c-463d-9648-af68f3e52ae9",
   "metadata": {},
   "source": [
    "## C3. Choice of the Hyperparameters.\n",
    "\n",
    "This discssion will be found in the word document."
   ]
  },
  {
   "cell_type": "code",
   "execution_count": null,
   "id": "c1e1b339-c89f-405c-87e6-c6451b01dfa4",
   "metadata": {},
   "outputs": [],
   "source": []
  },
  {
   "cell_type": "markdown",
   "id": "84281c1a-00c2-458f-911b-5aec22ccf2d0",
   "metadata": {},
   "source": [
    "# Part IV: Evaluation of the Model.\n",
    "\n",
    "This section there will be a discussion of the model.  There will be an assessment of the model. A discussion of the predictive accuracy of the network model."
   ]
  },
  {
   "cell_type": "markdown",
   "id": "50bc213a-8a8f-4a0d-a8b7-885cfec0e710",
   "metadata": {},
   "source": [
    "## D1. Stopping Criteria.\n",
    "\n",
    "This discussion can be found in the Word document.\n"
   ]
  },
  {
   "cell_type": "markdown",
   "id": "bab6a1f3-f9a8-4aad-b10b-5d631d28a2cc",
   "metadata": {},
   "source": [
    "## D2. Fitness of the Model.\n",
    "\n",
    "This section will ascertain the fitness of the model. There will be brief discussion of the fitness with the majority of the discussion being found in the Word Document."
   ]
  },
  {
   "cell_type": "code",
   "execution_count": 33,
   "id": "0d35b7f1-397d-45f5-b9e7-71b76093feb9",
   "metadata": {},
   "outputs": [],
   "source": [
    "## Insert code here"
   ]
  },
  {
   "cell_type": "markdown",
   "id": "d67555c8-862f-4686-ad7a-1ca379aeca13",
   "metadata": {},
   "source": [
    "## D3. Visualizations of the Training Process\n",
    "\n",
    "This section will be where the visualizations of the training proces will be coded and found.  Any pertinent discssuion of these visualizations will be found in the Word document. \n",
    "???????????????????"
   ]
  },
  {
   "cell_type": "code",
   "execution_count": 34,
   "id": "6a6704f3-d4a3-40a5-b0ac-d56c2c7fecba",
   "metadata": {},
   "outputs": [],
   "source": [
    "## Insert code here"
   ]
  },
  {
   "cell_type": "markdown",
   "id": "1ae88b57-d324-4ead-80c2-1474a9e054ad",
   "metadata": {},
   "source": [
    "## D4. Predictive Accuracy of the Model.\n",
    "\n",
    "This discussion will be found in the Word document in the appropriate section.\n"
   ]
  },
  {
   "cell_type": "markdown",
   "id": "c1f90c5e-c367-4356-ba2b-44fe307e50cb",
   "metadata": {},
   "source": [
    "# Part V: Evaluation of the Model.\n",
    "Sections E, F, and G will be found in the Word document. "
   ]
  },
  {
   "cell_type": "markdown",
   "id": "75f7bd62-bf77-41eb-ab5f-01401c6b2602",
   "metadata": {},
   "source": [
    "# Part VI: Reporting.\n",
    "\n",
    "## H. \n",
    "\n",
    "This Jupyter Notebook will be used to complete this requirement of the assessment. It will be submitted as a PDf and will accompany the other firles that were mentioned in earlier sections.\n",
    "\n",
    "## I. Web Resources.\n",
    "\n",
    "All web resources that were used to create code for assessment will be found in the Word document and are ommitted from this Jupyter Notebook. Please refer to the Word document for information on citations. \n",
    "\n",
    "## J. In-text Citations\n",
    "\n",
    "All in-text citatione for assessment will be found in the Word document and are ommitted from this Jupyter Notebook. Please refer to the Word document for information on these citations."
   ]
  }
 ],
 "metadata": {
  "kernelspec": {
   "display_name": "Python 3 (ipykernel)",
   "language": "python",
   "name": "python3"
  },
  "language_info": {
   "codemirror_mode": {
    "name": "ipython",
    "version": 3
   },
   "file_extension": ".py",
   "mimetype": "text/x-python",
   "name": "python",
   "nbconvert_exporter": "python",
   "pygments_lexer": "ipython3",
   "version": "3.8.18"
  }
 },
 "nbformat": 4,
 "nbformat_minor": 5
}
