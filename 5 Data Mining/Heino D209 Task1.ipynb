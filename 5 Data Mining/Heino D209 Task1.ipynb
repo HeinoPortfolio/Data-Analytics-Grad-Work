{
 "cells": [
  {
   "cell_type": "markdown",
   "id": "40530560",
   "metadata": {},
   "source": [
    "# D209 Data Mining I Performance Assessment Task 1\n",
    "By Matthew Heino\n",
    "\n",
    "### Purpose:\n",
    "This is a Jupyter Notebook for the D209 assessment for Data Mining I.  This notebook will be used in conjunction with a written document to explore data.  Concepts that will be explored in this notebook will be:\n",
    "- Creation of a KNN model\n",
    "- Data preparation \n",
    "- Identifying independent and dependent variables that are applicable to a question.\n",
    "- Data transformation, transforming data into a form that cn be used on a linear regression.\n",
    "\n",
    "**Note:** Code that has references uses the APA citation can be found in the Word document that accompanies this Jupyter Notebook."
   ]
  },
  {
   "cell_type": "markdown",
   "id": "b16933ec",
   "metadata": {},
   "source": [
    "## Pre-assessment tasks:\n",
    "        \n",
    "        1. Read the data from the CSV.\n",
    "        2. Get a feel for what the data contains. Print the first five \n",
    "        rows of the data frame.\n",
    "        3. Print some information about the dataframe. "
   ]
  },
  {
   "cell_type": "code",
   "execution_count": 1,
   "id": "4e6f6519",
   "metadata": {},
   "outputs": [],
   "source": [
    "import math\n",
    "import matplotlib.pyplot as plt\n",
    "import missingno as msno\n",
    "import numpy as np\n",
    "import pandas as pd\n",
    "import seaborn as sns\n",
    "\n",
    "from sklearn import preprocessing\n",
    "from sklearn.feature_selection import SelectKBest, f_classif\n",
    "from sklearn import metrics\n",
    "from sklearn.metrics import confusion_matrix, roc_auc_score, roc_curve, classification_report\n",
    "from sklearn.model_selection import train_test_split, GridSearchCV\n",
    "from sklearn.neighbors import KNeighborsClassifier"
   ]
  },
  {
   "cell_type": "code",
   "execution_count": 2,
   "id": "dd8ea894",
   "metadata": {},
   "outputs": [
    {
     "name": "stdout",
     "output_type": "stream",
     "text": [
      "   Age ReAdmis HighBlood Stroke Complication_risk Overweight Diabetes  \\\n",
      "0   53      No       Yes     No            Medium         No      Yes   \n",
      "1   51      No       Yes     No              High        Yes       No   \n",
      "2   53      No       Yes     No            Medium        Yes      Yes   \n",
      "3   78      No        No    Yes            Medium         No       No   \n",
      "4   22      No        No     No               Low         No       No   \n",
      "\n",
      "  Hyperlipidemia Asthma  Initial_days  \n",
      "0             No    Yes     10.585770  \n",
      "1             No     No     15.129562  \n",
      "2             No     No      4.772177  \n",
      "3             No    Yes      1.714879  \n",
      "4            Yes     No      1.254807  \n",
      "<class 'pandas.core.frame.DataFrame'>\n",
      "RangeIndex: 10000 entries, 0 to 9999\n",
      "Data columns (total 10 columns):\n",
      " #   Column             Non-Null Count  Dtype  \n",
      "---  ------             --------------  -----  \n",
      " 0   Age                10000 non-null  int64  \n",
      " 1   ReAdmis            10000 non-null  object \n",
      " 2   HighBlood          10000 non-null  object \n",
      " 3   Stroke             10000 non-null  object \n",
      " 4   Complication_risk  10000 non-null  object \n",
      " 5   Overweight         10000 non-null  object \n",
      " 6   Diabetes           10000 non-null  object \n",
      " 7   Hyperlipidemia     10000 non-null  object \n",
      " 8   Asthma             10000 non-null  object \n",
      " 9   Initial_days       10000 non-null  float64\n",
      "dtypes: float64(1), int64(1), object(8)\n",
      "memory usage: 781.4+ KB\n",
      "Medical dataframe information: \n",
      " None\n"
     ]
    }
   ],
   "source": [
    "# CSV columns that contain the desired features for the analysis.\n",
    "feature_cols =['Age','HighBlood','Stroke','Complication_risk'\n",
    "               ,'Overweight','Diabetes','Hyperlipidemia'\n",
    "               ,'Asthma' ,'Initial_days', 'ReAdmis']\n",
    "\n",
    "medical_df = pd.read_csv('medical_clean.csv', usecols=feature_cols)\n",
    "\n",
    "# Print the first five rows of the dataframe\n",
    "print(medical_df.head(5))\n",
    "\n",
    "# print some information about the dataframe.\n",
    "print(\"Medical dataframe information: \\n\" , medical_df.info())"
   ]
  },
  {
   "cell_type": "markdown",
   "id": "40476f65",
   "metadata": {},
   "source": [
    "# A. Research Question.\n",
    "1. The research question will be discussed in the written document that accompanies this Jupyter Notebook.  \n",
    "2. The goals of the analysis will be be discussed in the written document."
   ]
  },
  {
   "cell_type": "markdown",
   "id": "8818b65a",
   "metadata": {},
   "source": [
    "# B. Justification \n",
    "All B sections will be found in the written document that accompanies this Jupyter Notebook."
   ]
  },
  {
   "cell_type": "markdown",
   "id": "d4c1317b",
   "metadata": {},
   "source": [
    "# C Data Preparation \n",
    "This section will contain the code that will be used to clean and prepare the data that will be used in subsequent sections of this assessment.  Any questions that require text based answers will be included in the accompanying document.\n",
    "\n",
    "Code included in this section:\n",
    " - Code to look for duplicates in the dataframe\n",
    " - Code to look for missing values\n",
    " - Code for looking for the outliers that may be contained in the dataframe.\n",
    " - Code for creating summary statistics for the features."
   ]
  },
  {
   "cell_type": "markdown",
   "id": "3f1764df",
   "metadata": {},
   "source": [
    "## C1 & C2.  \n",
    "These sections can be found in the Word documnet that accompanies this Jupiter Notebook."
   ]
  },
  {
   "cell_type": "markdown",
   "id": "57e0cecd",
   "metadata": {},
   "source": [
    "## C3. Steps used to Prepare the Data."
   ]
  },
  {
   "cell_type": "markdown",
   "id": "1f9de256",
   "metadata": {},
   "source": [
    "### Looking for duplicates in the dataframe. \n"
   ]
  },
  {
   "cell_type": "code",
   "execution_count": 3,
   "id": "60e13b54",
   "metadata": {},
   "outputs": [
    {
     "name": "stdout",
     "output_type": "stream",
     "text": [
      "Duplicated rows: \n",
      " Empty DataFrame\n",
      "Columns: [Age, ReAdmis, HighBlood, Stroke, Complication_risk, Overweight, Diabetes, Hyperlipidemia, Asthma, Initial_days]\n",
      "Index: []\n"
     ]
    }
   ],
   "source": [
    "# Step 1. Check for duplicates in the dataset.\n",
    "medical_dups = medical_df[medical_df.duplicated()]\n",
    "print(\"Duplicated rows: \\n\",medical_dups)"
   ]
  },
  {
   "cell_type": "markdown",
   "id": "82c8f300",
   "metadata": {},
   "source": [
    "No duplicates were found!"
   ]
  },
  {
   "cell_type": "markdown",
   "id": "c04263bc",
   "metadata": {},
   "source": [
    "### Step 2. Look for missing values. "
   ]
  },
  {
   "cell_type": "code",
   "execution_count": 4,
   "id": "aff97072",
   "metadata": {},
   "outputs": [
    {
     "name": "stdout",
     "output_type": "stream",
     "text": [
      "\n",
      "Are there any missing values:  False\n",
      "\n",
      "Total missing values: \n",
      " Age                  0\n",
      "ReAdmis              0\n",
      "HighBlood            0\n",
      "Stroke               0\n",
      "Complication_risk    0\n",
      "Overweight           0\n",
      "Diabetes             0\n",
      "Hyperlipidemia       0\n",
      "Asthma               0\n",
      "Initial_days         0\n",
      "dtype: int64\n"
     ]
    }
   ],
   "source": [
    "#Step 2\n",
    "# Count the number of missing values for the dataframe.\n",
    "# Check if there are missing values in dataset\n",
    "print(\"\\nAre there any missing values: \",medical_df.isnull().values.any())\n",
    "print(\"\\nTotal missing values: \\n\", medical_df.isnull().sum())"
   ]
  },
  {
   "cell_type": "markdown",
   "id": "28ba4031",
   "metadata": {},
   "source": [
    "Display a visual of no missing values."
   ]
  },
  {
   "cell_type": "code",
   "execution_count": 5,
   "id": "dbc30331",
   "metadata": {},
   "outputs": [
    {
     "name": "stdout",
     "output_type": "stream",
     "text": [
      "AxesSubplot(0.125,0.11;0.698618x0.77)\n"
     ]
    },
    {
     "data": {
      "image/png": "[encoded data removed]",
      "text/plain": [
       "<Figure size 2500x1000 with 2 Axes>"
      ]
     },
     "metadata": {},
     "output_type": "display_data"
    }
   ],
   "source": [
    "# Create a missing matrix using Missingno library.\n",
    "print(msno.matrix(medical_df))"
   ]
  },
  {
   "cell_type": "markdown",
   "id": "c9c0031a",
   "metadata": {},
   "source": [
    "No missing values were found!"
   ]
  },
  {
   "cell_type": "markdown",
   "id": "5b77e009",
   "metadata": {},
   "source": [
    "### Step 3. Look for outliers in the data set.\n",
    "This step will be accomplished using a boxplot to look at the data that is contained in the continuous variables of of the dataset.\n",
    "\n",
    "Variables that will be evaluated are:\n",
    "- Age\n",
    "- Initial_days\n",
    "\n",
    "Method used to determine if the there are outliers will be the interquartile range method (IQR).  The IQR method was used in the data cleaning assessment and will be employed here.\n",
    "\n",
    "**Note:** The code for this section is essentially the same that was used in previous assessments regarding data cleaning."
   ]
  },
  {
   "cell_type": "code",
   "execution_count": 6,
   "id": "4bafbefc",
   "metadata": {},
   "outputs": [
    {
     "name": "stdout",
     "output_type": "stream",
     "text": [
      "Desription of Age: \n",
      " count    10000.000000\n",
      "mean        53.511700\n",
      "std         20.638538\n",
      "min         18.000000\n",
      "25%         36.000000\n",
      "50%         53.000000\n",
      "75%         71.000000\n",
      "max         89.000000\n",
      "Name: Age, dtype: float64\n"
     ]
    },
    {
     "data": {
      "image/png": "[encoded data removed]",
      "text/plain": [
       "<Figure size 800x800 with 2 Axes>"
      ]
     },
     "metadata": {},
     "output_type": "display_data"
    }
   ],
   "source": [
    "# Step 3 Look for outliers in the dataframe \n",
    "# Age\n",
    "\n",
    "print('Desription of Age: \\n', medical_df['Age'].describe())\n",
    "fig, (ax1, ax2) = plt.subplots(figsize=(8, 8), ncols=2, sharex= True,\n",
    "                                    sharey=False)\n",
    "sns.boxplot(data=medical_df['Age'], ax = ax1).set(title=\"Age\")\n",
    "sns.stripplot(data=medical_df['Age'], ax=ax2, color='red').set(title=\"Age\")\n",
    "plt.show()"
   ]
  },
  {
   "cell_type": "markdown",
   "id": "45bffe62",
   "metadata": {},
   "source": [
    "Based on the boxplot, there are no outliers.  All data falls within the bounds of the boxplot."
   ]
  },
  {
   "cell_type": "markdown",
   "id": "668afa50",
   "metadata": {},
   "source": [
    "### Step 5:  Look for oultiers in Initial Days\n"
   ]
  },
  {
   "cell_type": "code",
   "execution_count": 7,
   "id": "0863cf02",
   "metadata": {},
   "outputs": [
    {
     "name": "stdout",
     "output_type": "stream",
     "text": [
      "Desription of Initial Days: \n",
      " count    10000.000000\n",
      "mean        34.455299\n",
      "std         26.309341\n",
      "min          1.001981\n",
      "25%          7.896215\n",
      "50%         35.836244\n",
      "75%         61.161020\n",
      "max         71.981490\n",
      "Name: Initial_days, dtype: float64\n"
     ]
    },
    {
     "data": {
      "image/png": "[encoded data removed]",
      "text/plain": [
       "<Figure size 800x800 with 2 Axes>"
      ]
     },
     "metadata": {},
     "output_type": "display_data"
    }
   ],
   "source": [
    "print('Desription of Initial Days: \\n', medical_df['Initial_days'].describe())\n",
    "fig, (ax1, ax2) = plt.subplots(figsize=(8, 8), ncols=2, sharex= True,\n",
    "                                    sharey=False)\n",
    "sns.boxplot(data=medical_df['Initial_days'], ax = ax1).set(title=\"Initial Days\")\n",
    "sns.stripplot(data=medical_df['Initial_days'], ax=ax2, color='red').set(title=\"Initial Days\")\n",
    "plt.show()"
   ]
  },
  {
   "cell_type": "markdown",
   "id": "e8465313",
   "metadata": {},
   "source": [
    "Based on the boxplot, there are no outliers.  All data falls within the bounds of the boxplot."
   ]
  },
  {
   "cell_type": "markdown",
   "id": "605c311e",
   "metadata": {},
   "source": [
    "##  Step 6: Summary Statistics for the Chosen Features\n",
    "This section will display some of the statisitics for the features.  There is a section for both the continuous and the categorical features of the dataframe. "
   ]
  },
  {
   "cell_type": "markdown",
   "id": "8025b5d0",
   "metadata": {},
   "source": [
    "### Continuous Variables\n",
    "This section will display the summary statistics for the continuous variables for the chosen features."
   ]
  },
  {
   "cell_type": "code",
   "execution_count": 8,
   "id": "f745b3d6",
   "metadata": {},
   "outputs": [
    {
     "name": "stdout",
     "output_type": "stream",
     "text": [
      "\n",
      "The summary statistics for:  Age\n",
      "count    10000.000000\n",
      "mean        53.511700\n",
      "std         20.638538\n",
      "min         18.000000\n",
      "25%         36.000000\n",
      "50%         53.000000\n",
      "75%         71.000000\n",
      "max         89.000000\n",
      "Name: Age, dtype: float64\n",
      "\n",
      "The summary statistics for:  Initial_days\n",
      "count    10000.000000\n",
      "mean        34.455299\n",
      "std         26.309341\n",
      "min          1.001981\n",
      "25%          7.896215\n",
      "50%         35.836244\n",
      "75%         61.161020\n",
      "max         71.981490\n",
      "Name: Initial_days, dtype: float64\n"
     ]
    }
   ],
   "source": [
    "# Summary Statistics for Features\n",
    "medical_cont_cols = medical_df.select_dtypes(include='number').columns\n",
    "\n",
    "for col_name in medical_cont_cols:\n",
    "    print(\"\\nThe summary statistics for: \", col_name)\n",
    "    print(medical_df[col_name].describe())"
   ]
  },
  {
   "cell_type": "markdown",
   "id": "ead2fe95",
   "metadata": {},
   "source": [
    "### Categorical Variables\n",
    "\n",
    "This section will display the summary statistics for the categorical variables for the chosen features."
   ]
  },
  {
   "cell_type": "code",
   "execution_count": 9,
   "id": "3120618e",
   "metadata": {},
   "outputs": [
    {
     "name": "stdout",
     "output_type": "stream",
     "text": [
      "\n",
      "\n",
      "The summary statistics for  ReAdmis\n",
      "count     10000\n",
      "unique        2\n",
      "top          No\n",
      "freq       6331\n",
      "Name: ReAdmis, dtype: object\n",
      "\n",
      " ReAdmis\n",
      "No     6331\n",
      "Yes    3669\n",
      "dtype: int64\n",
      "\n",
      "\n",
      "The summary statistics for  HighBlood\n",
      "count     10000\n",
      "unique        2\n",
      "top          No\n",
      "freq       5910\n",
      "Name: HighBlood, dtype: object\n",
      "\n",
      " HighBlood\n",
      "No     5910\n",
      "Yes    4090\n",
      "dtype: int64\n",
      "\n",
      "\n",
      "The summary statistics for  Stroke\n",
      "count     10000\n",
      "unique        2\n",
      "top          No\n",
      "freq       8007\n",
      "Name: Stroke, dtype: object\n",
      "\n",
      " Stroke\n",
      "No     8007\n",
      "Yes    1993\n",
      "dtype: int64\n",
      "\n",
      "\n",
      "The summary statistics for  Complication_risk\n",
      "count      10000\n",
      "unique         3\n",
      "top       Medium\n",
      "freq        4517\n",
      "Name: Complication_risk, dtype: object\n",
      "\n",
      " Complication_risk\n",
      "High      3358\n",
      "Low       2125\n",
      "Medium    4517\n",
      "dtype: int64\n",
      "\n",
      "\n",
      "The summary statistics for  Overweight\n",
      "count     10000\n",
      "unique        2\n",
      "top         Yes\n",
      "freq       7094\n",
      "Name: Overweight, dtype: object\n",
      "\n",
      " Overweight\n",
      "No     2906\n",
      "Yes    7094\n",
      "dtype: int64\n",
      "\n",
      "\n",
      "The summary statistics for  Diabetes\n",
      "count     10000\n",
      "unique        2\n",
      "top          No\n",
      "freq       7262\n",
      "Name: Diabetes, dtype: object\n",
      "\n",
      " Diabetes\n",
      "No     7262\n",
      "Yes    2738\n",
      "dtype: int64\n",
      "\n",
      "\n",
      "The summary statistics for  Hyperlipidemia\n",
      "count     10000\n",
      "unique        2\n",
      "top          No\n",
      "freq       6628\n",
      "Name: Hyperlipidemia, dtype: object\n",
      "\n",
      " Hyperlipidemia\n",
      "No     6628\n",
      "Yes    3372\n",
      "dtype: int64\n",
      "\n",
      "\n",
      "The summary statistics for  Asthma\n",
      "count     10000\n",
      "unique        2\n",
      "top          No\n",
      "freq       7107\n",
      "Name: Asthma, dtype: object\n",
      "\n",
      " Asthma\n",
      "No     7107\n",
      "Yes    2893\n",
      "dtype: int64\n"
     ]
    }
   ],
   "source": [
    "medical_cat_cols = medical_df.select_dtypes(include='object').columns\n",
    "\n",
    "for col_name in medical_cat_cols:\n",
    "    print(\"\\n\\nThe summary statistics for \", col_name)\n",
    "    print(medical_df[col_name].describe())\n",
    "    print(\"\\n\",medical_df.groupby([col_name]).size())"
   ]
  },
  {
   "cell_type": "markdown",
   "id": "081208d1",
   "metadata": {},
   "source": [
    "## Step 7: Data Transformation\n",
    "Encode the categorical variables using either map() or pandas get_dummies() methods.  \n",
    "**Note:**  This was an experimentation into different ways to encode the categorical variables."
   ]
  },
  {
   "cell_type": "code",
   "execution_count": 10,
   "id": "af8cc85f",
   "metadata": {},
   "outputs": [
    {
     "name": "stdout",
     "output_type": "stream",
     "text": [
      "<class 'pandas.core.frame.DataFrame'>\n",
      "RangeIndex: 10000 entries, 0 to 9999\n",
      "Data columns (total 12 columns):\n",
      " #   Column                    Non-Null Count  Dtype  \n",
      "---  ------                    --------------  -----  \n",
      " 0   Age                       10000 non-null  int64  \n",
      " 1   ReAdmis                   10000 non-null  int64  \n",
      " 2   HighBlood                 10000 non-null  int64  \n",
      " 3   Stroke                    10000 non-null  int64  \n",
      " 4   Overweight                10000 non-null  int64  \n",
      " 5   Diabetes                  10000 non-null  int64  \n",
      " 6   Hyperlipidemia            10000 non-null  int64  \n",
      " 7   Asthma                    10000 non-null  int64  \n",
      " 8   Initial_days              10000 non-null  float64\n",
      " 9   Complication_risk_High    10000 non-null  uint8  \n",
      " 10  Complication_risk_Low     10000 non-null  uint8  \n",
      " 11  Complication_risk_Medium  10000 non-null  uint8  \n",
      "dtypes: float64(1), int64(8), uint8(3)\n",
      "memory usage: 732.5 KB\n",
      "\n",
      "Medical Info:  None\n",
      "   Age  ReAdmis  HighBlood  Stroke  Overweight  Diabetes  Hyperlipidemia  \\\n",
      "0   53        0          1       0           0         1               0   \n",
      "1   51        0          1       0           1         0               0   \n",
      "2   53        0          1       0           1         1               0   \n",
      "3   78        0          0       1           0         0               0   \n",
      "4   22        0          0       0           0         0               1   \n",
      "\n",
      "   Asthma  Initial_days  Complication_risk_High  Complication_risk_Low  \\\n",
      "0       1     10.585770                       0                      0   \n",
      "1       0     15.129562                       1                      0   \n",
      "2       0      4.772177                       0                      0   \n",
      "3       1      1.714879                       0                      0   \n",
      "4       0      1.254807                       0                      1   \n",
      "\n",
      "   Complication_risk_Medium  \n",
      "0                         1  \n",
      "1                         0  \n",
      "2                         1  \n",
      "3                         1  \n",
      "4                         0  \n"
     ]
    }
   ],
   "source": [
    "# C4 Transform the categorical variables.\n",
    "medical_cats_cols = medical_df.select_dtypes(include='object').columns\n",
    "yes_no_map ={\"Yes\": 1, \"No\": 0}\n",
    "\n",
    "for name in medical_cats_cols:\n",
    "    if len(medical_df[name].unique()) > 2:\n",
    "        medical_df =   pd.get_dummies(medical_df\n",
    "               ,columns = [name]\n",
    "               ,drop_first = False,\n",
    "               prefix = name\n",
    "               )\n",
    "    else:\n",
    "        medical_df[name] = medical_df[name].map(yes_no_map)\n",
    "        \n",
    "print(\"\\nMedical Info: \",medical_df.info())\n",
    "print(medical_df.head(5))"
   ]
  },
  {
   "cell_type": "markdown",
   "id": "273b73bf",
   "metadata": {},
   "source": [
    "The categorical values have been encoded to their numerical equivalents."
   ]
  },
  {
   "cell_type": "markdown",
   "id": "8c3075bc",
   "metadata": {},
   "source": [
    "### Look for features that are the most important\n",
    "\n",
    "Using SelectKbest to look for relevant features.  This will use the f_classif argument."
   ]
  },
  {
   "cell_type": "code",
   "execution_count": 11,
   "id": "67252651",
   "metadata": {},
   "outputs": [],
   "source": [
    "# split the data.\n",
    "# Create a pandas frame for the X \n",
    "X = medical_df.drop(['ReAdmis'], axis=1)\n",
    "\n",
    "# Create a pandas series for y.\n",
    "y = medical_df['ReAdmis']"
   ]
  },
  {
   "cell_type": "markdown",
   "id": "66fcca3c",
   "metadata": {},
   "source": [
    "### Step 8: Scale Features \n",
    "This is to be able to use the SelectKBest.\n",
    "Citation: (Sklearn.Preprocessing.MinMaxScaler, n.d.)"
   ]
  },
  {
   "cell_type": "code",
   "execution_count": 12,
   "id": "2a150200",
   "metadata": {},
   "outputs": [
    {
     "name": "stdout",
     "output_type": "stream",
     "text": [
      "The dataframe with the values scaled: \n",
      "             Age  HighBlood  Stroke  Overweight  Diabetes  Hyperlipidemia  \\\n",
      "0     0.492958        1.0     0.0         0.0       1.0             0.0   \n",
      "1     0.464789        1.0     0.0         1.0       0.0             0.0   \n",
      "2     0.492958        1.0     0.0         1.0       1.0             0.0   \n",
      "3     0.845070        0.0     1.0         0.0       0.0             0.0   \n",
      "4     0.056338        0.0     0.0         0.0       0.0             1.0   \n",
      "...        ...        ...     ...         ...       ...             ...   \n",
      "9995  0.098592        1.0     0.0         0.0       0.0             0.0   \n",
      "9996  0.971831        1.0     0.0         1.0       1.0             0.0   \n",
      "9997  0.380282        1.0     0.0         1.0       0.0             0.0   \n",
      "9998  0.352113        0.0     0.0         1.0       0.0             0.0   \n",
      "9999  0.732394        0.0     0.0         1.0       0.0             1.0   \n",
      "\n",
      "      Asthma  Initial_days  Complication_risk_High  Complication_risk_Low  \\\n",
      "0        1.0      0.135022                     0.0                    0.0   \n",
      "1        0.0      0.199037                     1.0                    0.0   \n",
      "2        0.0      0.053117                     0.0                    0.0   \n",
      "3        1.0      0.010044                     0.0                    0.0   \n",
      "4        0.0      0.003562                     0.0                    1.0   \n",
      "...      ...           ...                     ...                    ...   \n",
      "9995     0.0      0.712308                     0.0                    0.0   \n",
      "9996     1.0      0.953321                     0.0                    0.0   \n",
      "9997     0.0      0.974256                     1.0                    0.0   \n",
      "9998     0.0      0.878492                     0.0                    0.0   \n",
      "9999     0.0      0.984067                     0.0                    1.0   \n",
      "\n",
      "      Complication_risk_Medium  \n",
      "0                          1.0  \n",
      "1                          0.0  \n",
      "2                          1.0  \n",
      "3                          1.0  \n",
      "4                          0.0  \n",
      "...                        ...  \n",
      "9995                       1.0  \n",
      "9996                       1.0  \n",
      "9997                       0.0  \n",
      "9998                       1.0  \n",
      "9999                       0.0  \n",
      "\n",
      "[10000 rows x 11 columns]\n"
     ]
    }
   ],
   "source": [
    "# Scale (transform the values in X).\n",
    "X = pd.DataFrame(preprocessing.MinMaxScaler().fit_transform(X)\n",
    "                 , columns=X.columns)\n",
    "\n",
    "print(\"The dataframe with the values scaled: \\n \",X)"
   ]
  },
  {
   "cell_type": "markdown",
   "id": "236b90b9",
   "metadata": {},
   "source": [
    "### Step 9: SelectKBest\n",
    "Use SelectKBest to get features to be used in the model.\n",
    "Citation: (Sklearn.Feature_Selection.SelectKBest, n.d.)"
   ]
  },
  {
   "cell_type": "code",
   "execution_count": 13,
   "id": "7e9f5307",
   "metadata": {},
   "outputs": [
    {
     "name": "stdout",
     "output_type": "stream",
     "text": [
      "new x: \n",
      "       Initial_days  Asthma       Age  ReAdmis\n",
      "0         0.135022     1.0  0.492958        0\n",
      "1         0.199037     0.0  0.464789        0\n",
      "2         0.053117     0.0  0.492958        0\n",
      "3         0.010044     1.0  0.845070        0\n",
      "4         0.003562     0.0  0.056338        0\n",
      "...            ...     ...       ...      ...\n",
      "9995      0.712308     0.0  0.098592        0\n",
      "9996      0.953321     1.0  0.971831        1\n",
      "9997      0.974256     0.0  0.380282        1\n",
      "9998      0.878492     0.0  0.352113        1\n",
      "9999      0.984067     0.0  0.732394        1\n",
      "\n",
      "[10000 rows x 4 columns]\n"
     ]
    }
   ],
   "source": [
    "# Select the best features. **************************************************\n",
    "feat_sel = SelectKBest(f_classif, k='all')\n",
    "feat_sel.fit_transform(X, y)\n",
    "\n",
    "# Create a dataframewith the p-vlaues of the features.\n",
    "# in sorted order\n",
    "feat_pval = pd.DataFrame({'Feature': X.columns\n",
    "                          , 'p_value' : feat_sel.pvalues_}).sort_values('p_value')\n",
    "\n",
    "# Could not find features with a p-value less than or equal to 0.05.\n",
    "selected_features = feat_pval[feat_pval['p_value'] < .15]\n",
    "\n",
    "new_med_df = X[selected_features['Feature'].values].copy()\n",
    "\n",
    "# add the Readmis column.\n",
    "new_med_df.loc[:, 'ReAdmis']  = y\n",
    "\n",
    "print(\"new x: \\n\", new_med_df)"
   ]
  },
  {
   "cell_type": "markdown",
   "id": "759f428d",
   "metadata": {},
   "source": [
    "## C4. Copy of Cleaned Dataset.\n",
    "This is the code that is used to create the clean dataset.  It will saved to file and will be read from to create the model. "
   ]
  },
  {
   "cell_type": "code",
   "execution_count": 14,
   "id": "8ecc9450",
   "metadata": {},
   "outputs": [],
   "source": [
    "new_med_df.to_csv('Heino_Cleaned_Medical_Task_1.csv', index = False, header = True)"
   ]
  },
  {
   "cell_type": "markdown",
   "id": "ab894b5d",
   "metadata": {},
   "source": [
    "## D1. Split the Cleaned Dataset.\n",
    "Tasks:\n",
    "- Read in the cleaned data set into a new frame.\n",
    "- Split the datset into the train and test samples."
   ]
  },
  {
   "cell_type": "code",
   "execution_count": 15,
   "id": "b02df702",
   "metadata": {},
   "outputs": [
    {
     "name": "stdout",
     "output_type": "stream",
     "text": [
      "      Initial_days  Asthma       Age  ReAdmis\n",
      "0         0.135022     1.0  0.492958        0\n",
      "1         0.199037     0.0  0.464789        0\n",
      "2         0.053117     0.0  0.492958        0\n",
      "3         0.010044     1.0  0.845070        0\n",
      "4         0.003562     0.0  0.056338        0\n",
      "...            ...     ...       ...      ...\n",
      "9995      0.712308     0.0  0.098592        0\n",
      "9996      0.953321     1.0  0.971831        1\n",
      "9997      0.974256     0.0  0.380282        1\n",
      "9998      0.878492     0.0  0.352113        1\n",
      "9999      0.984067     0.0  0.732394        1\n",
      "\n",
      "[10000 rows x 4 columns]\n"
     ]
    }
   ],
   "source": [
    "#Read the cleaned file into a new dataframe.\n",
    "medical_mod_df = pd.read_csv('Heino_Cleaned_Medical_Task_1.csv')\n",
    "print(medical_mod_df)"
   ]
  },
  {
   "cell_type": "markdown",
   "id": "c0f94cef",
   "metadata": {},
   "source": [
    "### Splitting the data into the training and test sets."
   ]
  },
  {
   "cell_type": "code",
   "execution_count": 16,
   "id": "cefe6498",
   "metadata": {},
   "outputs": [
    {
     "name": "stdout",
     "output_type": "stream",
     "text": [
      "   Initial_days  Asthma       Age\n",
      "0      0.135022     1.0  0.492958\n",
      "1      0.199037     0.0  0.464789\n",
      "2      0.053117     0.0  0.492958\n",
      "3      0.010044     1.0  0.845070\n",
      "4      0.003562     0.0  0.056338\n"
     ]
    }
   ],
   "source": [
    "X = medical_mod_df.iloc[:, : -1]\n",
    "y = medical_mod_df['ReAdmis']\n",
    "\n",
    "# Split the data.\n",
    "X_train, X_test, y_train, y_test = train_test_split(X, y\n",
    "                                                    , train_size=0.8\n",
    "                                                    , test_size=0.2\n",
    "                                                    ,random_state=1911\n",
    "                                                    ,stratify=y)\n",
    "\n",
    "print(X.head())"
   ]
  },
  {
   "cell_type": "markdown",
   "id": "d93165d8",
   "metadata": {},
   "source": [
    "#### Save the split data into the appropriate files."
   ]
  },
  {
   "cell_type": "code",
   "execution_count": 17,
   "id": "9bb73ba1",
   "metadata": {},
   "outputs": [],
   "source": [
    "# Save the sets to the CSV files.\n",
    "X_train.to_csv('Heino_X_train_Task_1.csv', index = False, header = True)\n",
    "X_test.to_csv('Heino_X_test_Task_1.csv', index = False, header = True)\n",
    "y_train.to_csv('Heino_y_train_Task_1.csv', index = False, header = True) \n",
    "y_test.to_csv('Heino_y_test_Task_1.csv', index = False, header = True)"
   ]
  },
  {
   "cell_type": "markdown",
   "id": "f2e1cf4c",
   "metadata": {},
   "source": [
    "## D2. Description of the Analysis Technique.\n",
    "\n",
    "In this section, the model will tuned and created.  The tuning will be done using GridSearchCV.  This class will run through a parameter list that is passed as an argument.  This class will run through this list of parameters trying different combinations of variables to get the right parameters to yield the best model."
   ]
  },
  {
   "cell_type": "code",
   "execution_count": 18,
   "id": "cf5e4d1f",
   "metadata": {},
   "outputs": [
    {
     "data": {
      "text/plain": [
       "GridSearchCV(cv=5, estimator=KNeighborsClassifier(),\n",
       "             param_grid={'n_neighbors': array([ 1,  2,  3,  4,  5,  6,  7,  8,  9, 10, 11, 12, 13, 14, 15, 16, 17,\n",
       "       18, 19, 20, 21, 22, 23, 24, 25, 26, 27, 28, 29, 30, 31, 32, 33, 34,\n",
       "       35, 36, 37, 38, 39, 40, 41, 42, 43, 44, 45, 46, 47, 48, 49, 50, 51,\n",
       "       52, 53, 54, 55, 56, 57, 58, 59, 60, 61, 62, 63, 64, 65, 66, 67, 68,\n",
       "       69, 70, 71, 72, 73, 74, 75, 76, 77, 78, 79, 80, 81, 82, 83, 84, 85,\n",
       "       86, 87, 88])})"
      ]
     },
     "execution_count": 18,
     "metadata": {},
     "output_type": "execute_result"
    }
   ],
   "source": [
    "# Using GridSearch to tune the model.\n",
    "# Setup the parameters dictionary.\n",
    "train_size = round(math.sqrt(X_train.shape[0]))\n",
    "\n",
    "#print(train_size)\n",
    "param_grid= {'n_neighbors' : np.arange(1, train_size)}\n",
    "\n",
    "# Create the KNN classifier object\n",
    "knn = KNeighborsClassifier()\n",
    "\n",
    "# Create the GridSearchCV object.\n",
    "knn_gscv = GridSearchCV(knn, param_grid, cv=5)\n",
    "\n",
    "# Fit the training data to the model.\n",
    "knn_gscv.fit(X_train, y_train)\n"
   ]
  },
  {
   "cell_type": "code",
   "execution_count": 20,
   "id": "5b07a99a",
   "metadata": {},
   "outputs": [
    {
     "name": "stdout",
     "output_type": "stream",
     "text": [
      "{'n_neighbors': 42}\n",
      "0.9782500000000001\n"
     ]
    }
   ],
   "source": [
    "# Print the best params for the model\n",
    "print(knn_gscv.best_params_)\n",
    "\n",
    "# Print the best score for the model.\n",
    "print(knn_gscv.best_score_)"
   ]
  },
  {
   "cell_type": "markdown",
   "id": "31c4b5be",
   "metadata": {},
   "source": [
    "### Create the KNN model with the best K value.\n",
    "Using the K that was determined using GridSearchCV.  The best value for k was 42.  The model with this K will be created below."
   ]
  },
  {
   "cell_type": "code",
   "execution_count": 21,
   "id": "33c19d08",
   "metadata": {},
   "outputs": [],
   "source": [
    "# Using the tuned parameter, using k = 43 from the grid search.  \n",
    "# Using an odd number. THis will be discussed in the written document.\n",
    "# Create a model with the optimal k.\n",
    "knn2 = KNeighborsClassifier(n_neighbors=43)\n",
    "\n",
    "# Fit the model.\n",
    "knn2.fit(X_train, y_train)\n",
    "\n",
    "# Create y predctions from the fitted model.\n",
    "y_preds = knn2.predict(X_test)"
   ]
  },
  {
   "cell_type": "markdown",
   "id": "95a3c8a0",
   "metadata": {},
   "source": [
    "#### Print a confusion matrix for the model."
   ]
  },
  {
   "cell_type": "code",
   "execution_count": 22,
   "id": "4ebc2ed4",
   "metadata": {},
   "outputs": [
    {
     "name": "stdout",
     "output_type": "stream",
     "text": [
      "[[1229   37]\n",
      " [  20  714]]\n"
     ]
    },
    {
     "data": {
      "image/png": "[encoded data removed]",
      "text/plain": [
       "<Figure size 640x480 with 2 Axes>"
      ]
     },
     "metadata": {},
     "output_type": "display_data"
    }
   ],
   "source": [
    "conf_matrix = confusion_matrix(y_test, y_preds)\n",
    "print(conf_matrix)\n",
    "\n",
    "# Create a graph of confusion matrix.\n",
    "con_mat_disp = metrics.ConfusionMatrixDisplay(confusion_matrix=conf_matrix,\n",
    "                                              display_labels=[True, False])\n",
    "\n",
    "# Plot the visual.\n",
    "con_mat_disp.plot()\n",
    "plt.grid(False)\n",
    "plt.show()"
   ]
  },
  {
   "cell_type": "markdown",
   "id": "1248ec43",
   "metadata": {},
   "source": [
    "#### The accuracy of the model."
   ]
  },
  {
   "cell_type": "code",
   "execution_count": 23,
   "id": "329abfcb",
   "metadata": {},
   "outputs": [
    {
     "name": "stdout",
     "output_type": "stream",
     "text": [
      "Training accuracy of the model: 0.978875 \n",
      "Testing accuracy of the model: 0.9715 \n"
     ]
    }
   ],
   "source": [
    "# Print the accuracy of the model.\n",
    "print(\"Training accuracy of the model: {0} \".format(knn2.score(X_train, y_train)))\n",
    "print(\"Testing accuracy of the model: {0} \".format(knn2.score(X_test, y_test)))"
   ]
  },
  {
   "cell_type": "markdown",
   "id": "dc068d76",
   "metadata": {},
   "source": [
    "#### Calculating the AUC score and classification report."
   ]
  },
  {
   "cell_type": "code",
   "execution_count": 24,
   "id": "7c756766",
   "metadata": {},
   "outputs": [],
   "source": [
    "y_preds_probs = knn2.predict_proba(X_test)[:, 1]\n",
    "\n",
    "# unpack the false positive rate(fpr), true positve rate(tpr), and the threshold.\n",
    "fpr, tpr, threshold = roc_curve(y_test, y_preds_probs)"
   ]
  },
  {
   "cell_type": "code",
   "execution_count": 25,
   "id": "64d1bca8",
   "metadata": {},
   "outputs": [
    {
     "data": {
      "image/png": "[encoded data removed]",
      "text/plain": [
       "<Figure size 640x480 with 1 Axes>"
      ]
     },
     "metadata": {},
     "output_type": "display_data"
    }
   ],
   "source": [
    "# Create a plot.\n",
    "plt.plot([0,1], [0,1], linestyle='dashdot' )\n",
    "plt.plot(fpr, tpr, color='green')\n",
    "plt.xlabel('False Positive Rate')\n",
    "plt.ylabel('True Positive Rate')\n",
    "plt.xticks(rotation=40, ha='left')\n",
    "plt.title(\"The ROC Curve for the Tuned KNN Model\")\n",
    "plt.show()\n"
   ]
  },
  {
   "cell_type": "markdown",
   "id": "eb40d22c",
   "metadata": {},
   "source": [
    "#### Print the Area Under the curve and the classification report."
   ]
  },
  {
   "cell_type": "code",
   "execution_count": 26,
   "id": "e06db88c",
   "metadata": {},
   "outputs": [
    {
     "name": "stdout",
     "output_type": "stream",
     "text": [
      "\n",
      "The Area Under the Curve is: 0.997700281088713 \n",
      "\n",
      "The classification report for the KNN model:\n",
      "\n",
      "               precision    recall  f1-score   support\n",
      "\n",
      "           0       0.98      0.97      0.98      1266\n",
      "           1       0.95      0.97      0.96       734\n",
      "\n",
      "    accuracy                           0.97      2000\n",
      "   macro avg       0.97      0.97      0.97      2000\n",
      "weighted avg       0.97      0.97      0.97      2000\n",
      "\n"
     ]
    }
   ],
   "source": [
    "# Print the area under the curve\n",
    "print(\"\\nThe Area Under the Curve is: {0} \".format(roc_auc_score(y_test, y_preds_probs)))\n",
    "\n",
    "# Print the classification report.\n",
    "print(\"\\nThe classification report for the KNN model:\\n\\n\", classification_report(y_test, y_preds))"
   ]
  },
  {
   "cell_type": "code",
   "execution_count": null,
   "id": "9a1b7b5c",
   "metadata": {},
   "outputs": [],
   "source": []
  }
 ],
 "metadata": {
  "kernelspec": {
   "display_name": "Python 3 (ipykernel)",
   "language": "python",
   "name": "python3"
  },
  "language_info": {
   "codemirror_mode": {
    "name": "ipython",
    "version": 3
   },
   "file_extension": ".py",
   "mimetype": "text/x-python",
   "name": "python",
   "nbconvert_exporter": "python",
   "pygments_lexer": "ipython3",
   "version": "3.7.1"
  }
 },
 "nbformat": 4,
 "nbformat_minor": 5
}
