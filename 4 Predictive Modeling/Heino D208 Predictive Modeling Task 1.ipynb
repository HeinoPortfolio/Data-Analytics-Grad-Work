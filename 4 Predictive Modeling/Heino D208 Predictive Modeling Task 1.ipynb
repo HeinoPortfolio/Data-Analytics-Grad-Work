{
 "cells": [
  {
   "cell_type": "markdown",
   "id": "310e8a08",
   "metadata": {},
   "source": [
    "# D208 Predictive Modeling Performance Assessment Task 1\n",
    "By Matthew Heino\n",
    "\n",
    "\n",
    "### Purpose:\n",
    "This is a Jupyter Notebook for the D208 assessment for Predictive Modeling.  This notebook will be used in conjunction with a written document to explore data.  Concepts that will be explored in this notebook will be:\n",
    "- Multiple Linear Regression\n",
    "- Data preparation \n",
    "- Identifying independent and dependent variables that are applicable to a question.\n",
    "- Data transformation, transforming data into a form that cn be used on a linear regression.\n",
    "\n",
    "**Note:** Code that has references uses the APA citation can be found in the Word document that accompanies this Jupyter Notebook."
   ]
  },
  {
   "cell_type": "markdown",
   "id": "b72e6b87",
   "metadata": {},
   "source": [
    "# A. Research Question.\n",
    "1. The research question will be discussed in the written document that accompanies this Jupyter Notebook.  \n",
    "2. The goals of the analysis will be be discussed in the written document."
   ]
  },
  {
   "cell_type": "markdown",
   "id": "9eb0907b",
   "metadata": {},
   "source": [
    "# B. Justification \n",
    "All B sections will be found in the written document that accompanies this Jupyter Notebook. "
   ]
  },
  {
   "cell_type": "markdown",
   "id": "2c981647",
   "metadata": {},
   "source": [
    "## Pre-assessment tasks:\n",
    "        \n",
    "        1. Read the data from the CSV.\n",
    "        2. Get a feel for what the data contains. Print the first five \n",
    "        rows of the data frame."
   ]
  },
  {
   "cell_type": "code",
   "execution_count": null,
   "id": "16b4a1db",
   "metadata": {},
   "outputs": [],
   "source": [
    "import matplotlib.pyplot as plt\n",
    "import missingno as msno\n",
    "import numpy as np\n",
    "import pandas as pd\n",
    "import seaborn as sns\n",
    "import statsmodels.api as sm\n",
    "\n",
    "from scipy import stats\n",
    "from sklearn import preprocessing\n",
    "from sklearn.model_selection import train_test_split\n",
    "from statsmodels.stats.outliers_influence import variance_inflation_factor\n",
    "\n",
    "import warnings\n",
    "warnings.filterwarnings('ignore')"
   ]
  },
  {
   "cell_type": "code",
   "execution_count": null,
   "id": "c9ef922a",
   "metadata": {},
   "outputs": [],
   "source": [
    "# Show all columns (Marques, 2022).\n",
    "pd.set_option('display.max_columns', 20)\n",
    "\n",
    "# Read in the CSV file into a pandas dataframe.\n",
    "# Read in only specific columns into the dataframe.\n",
    "lin_cols = ['Children','Age', 'Income', 'Gender','VitD_levels','Doc_visits'\n",
    "            ,'Initial_admin','Complication_risk','Arthritis','Diabetes'\n",
    "            ,'BackPain','TotalCharge','Initial_days'\n",
    "            ]\n",
    "\n",
    "medical_df = pd.read_csv('medical_clean.csv', usecols=lin_cols)"
   ]
  },
  {
   "cell_type": "code",
   "execution_count": null,
   "id": "47c04302",
   "metadata": {},
   "outputs": [],
   "source": [
    "print(\"Medical dataframe information: \\n\" , medical_df.info())"
   ]
  },
  {
   "cell_type": "markdown",
   "id": "968c095a",
   "metadata": {},
   "source": [
    "Reviewing the information from the execution info() method, it is noted, that there are no missing values in the columns that are to be used in the assessment."
   ]
  },
  {
   "cell_type": "code",
   "execution_count": null,
   "id": "c8e4bb41",
   "metadata": {},
   "outputs": [],
   "source": [
    "# Print the first five rows of the data frame\n",
    "print(medical_df.head(5))"
   ]
  },
  {
   "cell_type": "markdown",
   "id": "e2d34a76",
   "metadata": {},
   "source": [
    "# C. Data Preparation.\n",
    "This section will contain the code that will be used to clean and prepare the data that will be used in subsequent sections of this assessment.  Any questions that require text based answers will be included in the accompanying document.\n",
    "\n",
    "Code included in this section:\n",
    " - Code for creating summary statistics for the features.\n",
    " - Visualizations of the data that was discussed in the previous section of the document.  There will be visualizations of the variables both independent and dependent variables that will be the focus of the research question.  These visualizations will be both univariate and bivariate.  There will a brief description of them where appropriate.\n",
    " - Data wrangling code will be included in this section.\n",
    " - Code for creating the prepared data will be given below.\n",
    " "
   ]
  },
  {
   "cell_type": "markdown",
   "id": "76bcd5ce",
   "metadata": {},
   "source": [
    "## C1.  Data Cleaning\n",
    "Steps:  \n",
    "1. Look for duplicate data in the set.\n",
    "2. Look for missing values in the data set.\n",
    "3. Look for outliers in continuous variables of the dataset the data set.\n",
    "4. Tranform/Encode the categorical variables. (Found in C4)\n",
    "5. Look multicollinearity among the features. (Found in C4)"
   ]
  },
  {
   "cell_type": "markdown",
   "id": "47730db1",
   "metadata": {},
   "source": [
    "### Step 1. Look for duplicates. "
   ]
  },
  {
   "cell_type": "code",
   "execution_count": null,
   "id": "31f016ce",
   "metadata": {},
   "outputs": [],
   "source": [
    "# Check for duplicates in the dataset.\n",
    "medical_dups = medical_df[medical_df.duplicated()]\n",
    "print(\"Duplicated rows: \\n\",medical_dups)"
   ]
  },
  {
   "cell_type": "markdown",
   "id": "7e561afc",
   "metadata": {},
   "source": [
    "**Note:**  There were no duplicated rows found in the columns used for this part of the assessment."
   ]
  },
  {
   "cell_type": "markdown",
   "id": "c2f71125",
   "metadata": {},
   "source": [
    "### Step 2. Look for missing values. "
   ]
  },
  {
   "cell_type": "code",
   "execution_count": null,
   "id": "09b31125",
   "metadata": {},
   "outputs": [],
   "source": [
    "#Step 2\n",
    "# Count the number of missing values for the dataframe.\n",
    "# Check if there are missing values in dataset\n",
    "print(\"\\nAre there any missing values: \",medical_df.isnull().values.any())\n",
    "print(\"\\nTotal missing values: \", medical_df.isnull().sum())"
   ]
  },
  {
   "cell_type": "code",
   "execution_count": null,
   "id": "5ce43bd3",
   "metadata": {},
   "outputs": [],
   "source": [
    "# Create a missing matrix using Missingno library.\n",
    "print(msno.matrix(medical_df))"
   ]
  },
  {
   "cell_type": "markdown",
   "id": "52ad4643",
   "metadata": {},
   "source": [
    "As noted in the **info()** method there are no null values found in the dataset.  All columns of the dataframe show that there are 10,000 entries for the columns.  No imputing of data will be needed in for the features in the dataframe."
   ]
  },
  {
   "cell_type": "markdown",
   "id": "5680012a",
   "metadata": {},
   "source": [
    "### Step 3. Look for outliers in the data set.\n",
    "This step will be accomplished using a boxplot to look at the data that is contained in the continuous variables of of the dataset.\n",
    "Variables that will be evaluated are:\n",
    "- Children\n",
    "- Age\n",
    "- Income\n",
    "- VitD_levels\n",
    "- Doc_visits\n",
    "- Initial_days\n",
    "- Total_charge\n",
    "\n",
    "Method used to determine if the there are outliers will be the interquartile range method (IQR).  The IQR method was used in the data cleaning assessment and will be employed here.\n",
    "\n",
    "**Note:** The code for this section is essentially the same that was used in the D206 assessment regarding data cleaning."
   ]
  },
  {
   "cell_type": "markdown",
   "id": "0b47f073",
   "metadata": {},
   "source": [
    "### Children\n"
   ]
  },
  {
   "cell_type": "code",
   "execution_count": null,
   "id": "00879798",
   "metadata": {},
   "outputs": [],
   "source": [
    "print('Desription of Children: \\n',medical_df['Children'].describe())\n",
    "fig, (ax1, ax2) = plt.subplots(figsize=(8, 8), ncols=2, sharex= True,\n",
    "                                    sharey=False)\n",
    "sns.boxplot(data=medical_df['Children'], ax = ax1).set(title=\"Children\")\n",
    "sns.stripplot(data=medical_df['Children'], ax=ax2, color='red').set(title=\"Children\")\n",
    "plt.show()"
   ]
  },
  {
   "cell_type": "code",
   "execution_count": null,
   "id": "e1a6e8ab",
   "metadata": {},
   "outputs": [],
   "source": [
    "# See if any of the data lies outside a normal range.\n",
    "# Calculate the bound.\n",
    "lower_bound = medical_df['Children'].quantile(0.25)\n",
    "upper_bound = medical_df['Children'].quantile(0.75)\n",
    "IQR = upper_bound - lower_bound\n",
    "\n",
    "# Identify the outliers in the dataframe\n",
    "threshold = 1.5\n",
    "outliers = medical_df[(medical_df['Children']  < lower_bound - threshold * IQR ) \n",
    "                 |(medical_df['Children']  > upper_bound + threshold * IQR )] \n",
    "\n",
    "print(\"Lower bound: \", lower_bound)\n",
    "print(\"Upper bound: \", upper_bound)\n",
    "print(\"\\nOutliers shape: \", outliers.shape)\n",
    "\n",
    "medical_df = medical_df.drop(outliers.index)\n",
    "\n",
    "print(\"Shape after dropping Children outliers: \",medical_df.shape)\n",
    "print('Desription of Children: \\n',medical_df['Children'].describe())"
   ]
  },
  {
   "cell_type": "markdown",
   "id": "f93a4b0b",
   "metadata": {},
   "source": [
    "### Age"
   ]
  },
  {
   "cell_type": "code",
   "execution_count": null,
   "id": "bfb10359",
   "metadata": {},
   "outputs": [],
   "source": [
    "print('Desription of Age: \\n',medical_df['Age'].describe())\n",
    "fig, (ax1, ax2) = plt.subplots(figsize=(8, 8), ncols=2, sharex= True,\n",
    "                                    sharey=False)\n",
    "sns.boxplot(data=medical_df['Age'], ax = ax1).set(title=\"Age\")\n",
    "sns.stripplot(data=medical_df['Age'], ax=ax2, color='red').set(title=\"Age\")\n",
    "plt.show()"
   ]
  },
  {
   "cell_type": "code",
   "execution_count": null,
   "id": "1f5b2f7f",
   "metadata": {},
   "outputs": [],
   "source": [
    "#lower_bound = medical_df['Age'].quantile(0.25)\n",
    "#upper_bound = medical_df['Age'].quantile(0.75)\n",
    "#IQR = upper_bound - lower_bound\n",
    "\n",
    "# Identify the outliers in the dataframe\n",
    "#threshold = 1.5\n",
    "#outliers = medical_df[(medical_df['Age']  < lower_bound - threshold * IQR ) \n",
    "#                 |(medical_df['Age']  > upper_bound + threshold * IQR )] \n",
    "\n",
    "#print(\"Lower bound: \", lower_bound)\n",
    "#print(\"Upper bound: \", upper_bound)\n",
    "#print(\"\\nOutliers shape: \", outliers.shape)\n",
    "\n",
    "#medical_df = medical_df.drop(outliers.index)\n",
    "\n",
    "#print(\"Shape after dropping Age outliers: \",medical_df.shape)\n",
    "#print('Desription of Age: \\n',medical_df['Age'].describe())"
   ]
  },
  {
   "cell_type": "markdown",
   "id": "494fb45a",
   "metadata": {},
   "source": [
    "No outliers were found in this feature.  The code will be commented out and preserved for later use."
   ]
  },
  {
   "cell_type": "markdown",
   "id": "dbc2ce8c",
   "metadata": {},
   "source": [
    "### Income\n",
    "**Note:** The current values stored in this are of the right precision and no further action will be required."
   ]
  },
  {
   "cell_type": "code",
   "execution_count": null,
   "id": "4c60957d",
   "metadata": {},
   "outputs": [],
   "source": [
    "print('Desription of Income: \\n',medical_df['Income'].describe())\n",
    "fig, (ax1, ax2) = plt.subplots(figsize=(8, 8), ncols=2, sharex= True,\n",
    "                                    sharey=False)\n",
    "sns.boxplot(data=medical_df['Income'], ax = ax1).set(title=\"Income\")\n",
    "sns.stripplot(data=medical_df['Income'], ax=ax2, color='red').set(title=\"Income\")\n",
    "plt.show()"
   ]
  },
  {
   "cell_type": "code",
   "execution_count": null,
   "id": "c6168541",
   "metadata": {},
   "outputs": [],
   "source": [
    "lower_bound = medical_df['Income'].quantile(0.25)\n",
    "upper_bound = medical_df['Income'].quantile(0.75)\n",
    "IQR = upper_bound - lower_bound\n",
    "\n",
    "# Identify the outliers in the dataframe\n",
    "#threshold = 1.5\n",
    "outliers = medical_df[(medical_df['Income']  < lower_bound - threshold * IQR ) \n",
    "                 |(medical_df['Income']  > upper_bound + threshold * IQR )] \n",
    "\n",
    "print(\"Lower bound: \", lower_bound)\n",
    "print(\"Upper bound: \", upper_bound)\n",
    "print(\"\\nOutliers shape: \", outliers.shape)\n",
    "\n",
    "medical_df = medical_df.drop(outliers.index)\n",
    "\n",
    "print(\"Shape after dropping Income outliers: \",medical_df.shape)\n",
    "print('Desription of Income: \\n',medical_df['Income'].describe())\n"
   ]
  },
  {
   "cell_type": "markdown",
   "id": "25b41526",
   "metadata": {},
   "source": [
    "### VitD_levels"
   ]
  },
  {
   "cell_type": "code",
   "execution_count": null,
   "id": "66b851ae",
   "metadata": {},
   "outputs": [],
   "source": [
    "print('Desription of Vitamin D levels: \\n',medical_df['VitD_levels'].describe())\n",
    "fig, (ax1, ax2) = plt.subplots(figsize=(8, 8), ncols=2, sharex= True,\n",
    "                                    sharey=False)\n",
    "sns.boxplot(data=medical_df['VitD_levels'], ax = ax1).set(title=\"Vitamin D Levels\")\n",
    "sns.stripplot(data=medical_df['VitD_levels'], ax=ax2, color='red').set(title=\"Vitamin D Levels\")\n",
    "plt.show()"
   ]
  },
  {
   "cell_type": "code",
   "execution_count": null,
   "id": "e2bc08a2",
   "metadata": {},
   "outputs": [],
   "source": [
    "lower_bound = medical_df['VitD_levels'].quantile(0.25)\n",
    "upper_bound = medical_df['VitD_levels'].quantile(0.75)\n",
    "IQR = upper_bound - lower_bound\n",
    "\n",
    "# Identify the outliers in the dataframe\n",
    "#threshold = 1.5\n",
    "outliers = medical_df[(medical_df['VitD_levels']  < lower_bound - threshold * IQR ) \n",
    "                 |(medical_df['VitD_levels']  > upper_bound + threshold * IQR )] \n",
    "\n",
    "print(\"Lower bound: \", lower_bound)\n",
    "print(\"Upper bound: \", upper_bound)\n",
    "print(\"\\nOutliers shape: \", outliers.shape)\n",
    "\n",
    "medical_df = medical_df.drop(outliers.index)\n",
    "\n",
    "print(\"Shape after dropping Vitamin D levels outliers: \",medical_df.shape)\n",
    "print('Desription of Vitamin D levels: \\n',medical_df['VitD_levels'].describe())"
   ]
  },
  {
   "cell_type": "markdown",
   "id": "67d1947a",
   "metadata": {},
   "source": [
    "### Doc_visits\n"
   ]
  },
  {
   "cell_type": "code",
   "execution_count": null,
   "id": "e75a8c60",
   "metadata": {},
   "outputs": [],
   "source": [
    "print('Desription of Doctor visits levels: \\n',medical_df['Doc_visits'].describe())\n",
    "fig, (ax1, ax2) = plt.subplots(figsize=(8, 8), ncols=2, sharex= True,\n",
    "                                    sharey=False)\n",
    "sns.boxplot(data=medical_df['Doc_visits'], ax = ax1).set(title=\"Doctor Visits\")\n",
    "sns.stripplot(data=medical_df['Doc_visits'], ax=ax2, color='red').set(title=\"Doctor Visits\")\n",
    "plt.show()"
   ]
  },
  {
   "cell_type": "code",
   "execution_count": null,
   "id": "daa32d56",
   "metadata": {},
   "outputs": [],
   "source": [
    "lower_bound = medical_df['Doc_visits'].quantile(0.25)\n",
    "upper_bound = medical_df['Doc_visits'].quantile(0.75)\n",
    "IQR = upper_bound - lower_bound\n",
    "\n",
    "# Identify the outliers in the dataframe\n",
    "#threshold = 1.5\n",
    "outliers = medical_df[(medical_df['Doc_visits']  < lower_bound - threshold * IQR ) \n",
    "                 |(medical_df['Doc_visits']  > upper_bound + threshold * IQR )] \n",
    "\n",
    "print(\"Lower bound: \", lower_bound)\n",
    "print(\"Upper bound: \", upper_bound)\n",
    "print(\"\\nOutliers shape: \", outliers.shape)\n",
    "\n",
    "medical_df = medical_df.drop(outliers.index)\n",
    "\n",
    "print(\"Shape after dropping Doc visits outliers: \",medical_df.shape)\n",
    "print('Desription of Doc visits: \\n',medical_df['Doc_visits'].describe())"
   ]
  },
  {
   "cell_type": "markdown",
   "id": "43145ed7",
   "metadata": {},
   "source": [
    "### Initial_days\n"
   ]
  },
  {
   "cell_type": "code",
   "execution_count": null,
   "id": "e0ed5d68",
   "metadata": {},
   "outputs": [],
   "source": [
    "print('Desription of  Initial_days levels: \\n',medical_df['Initial_days'].describe())\n",
    "fig, (ax1, ax2) = plt.subplots(figsize=(8, 8), ncols=2, sharex= True,\n",
    "                                    sharey=False)\n",
    "sns.boxplot(data=medical_df['Initial_days'], ax = ax1).set(title=\"Initial Days\")\n",
    "sns.stripplot(data=medical_df['Initial_days'], ax=ax2, color='red').set(title=\"Initial Days\")\n",
    "plt.show()"
   ]
  },
  {
   "cell_type": "code",
   "execution_count": null,
   "id": "818c2421",
   "metadata": {},
   "outputs": [],
   "source": [
    "#lower_bound = medical_df['Initial_days'].quantile(0.25)\n",
    "#upper_bound = medical_df['Initial_days'].quantile(0.75)\n",
    "#IQR = upper_bound - lower_bound\n",
    "\n",
    "# Identify the outliers in the dataframe\n",
    "#threshold = 1.5\n",
    "#outliers = medical_df[(medical_df['Initial_days']  < lower_bound - threshold * IQR ) \n",
    "#                 |(medical_df['Initial_days']  > upper_bound + threshold * IQR )] \n",
    "\n",
    "#print(\"Lower bound: \", lower_bound)\n",
    "#print(\"Upper bound: \", upper_bound)\n",
    "#print(\"\\nOutliers shape: \", outliers.shape)\n",
    "\n",
    "#medical_df = medical_df.drop(outliers.index)\n",
    "\n",
    "#print(\"Shape after dropping Initial days outliers: \",medical_df.shape)\n",
    "#print('Desription of Initial days: \\n',medical_df['Initial_days'].describe())\n"
   ]
  },
  {
   "cell_type": "markdown",
   "id": "a2d6d5ff",
   "metadata": {},
   "source": [
    "No outliers were found in this feature.  The code will be commented out and preserved for later use."
   ]
  },
  {
   "cell_type": "markdown",
   "id": "72d9855a",
   "metadata": {},
   "source": [
    "### Total_charge"
   ]
  },
  {
   "cell_type": "code",
   "execution_count": null,
   "id": "cb1f8237",
   "metadata": {},
   "outputs": [],
   "source": [
    "print('Desription of Total charge levels: \\n',medical_df['TotalCharge'].describe())\n",
    "fig, (ax1, ax2) = plt.subplots(figsize=(8, 8), ncols=2, sharex= True,\n",
    "                                    sharey=False)\n",
    "sns.boxplot(data=medical_df['TotalCharge'], ax = ax1).set(title=\"Total Charge\")\n",
    "sns.stripplot(data=medical_df['TotalCharge'], ax=ax2, color='red').set(title=\"Total Charge\")\n",
    "plt.show()"
   ]
  },
  {
   "cell_type": "code",
   "execution_count": null,
   "id": "bf441c53",
   "metadata": {},
   "outputs": [],
   "source": [
    "#lower_bound = medical_df['TotalCharge'].quantile(0.25)\n",
    "#upper_bound = medical_df['TotalCharge'].quantile(0.75)\n",
    "#IQR = upper_bound - lower_bound\n",
    "\n",
    "# Identify the outliers in the dataframe\n",
    "#threshold = 1.5\n",
    "#outliers = medical_df[(medical_df['TotalCharge']  < lower_bound - threshold * IQR ) \n",
    " #                |(medical_df['TotalCharge']  > upper_bound + threshold * IQR )] \n",
    "\n",
    "#print(\"Lower bound: \", lower_bound)\n",
    "#print(\"Upper bound: \", upper_bound)\n",
    "#print(\"\\nOutliers shape: \", outliers.shape)\n",
    "\n",
    "#medical_df = medical_df.drop(outliers.index)\n",
    "\n",
    "#print(\"Shape after dropping Total Charge outliers: \",medical_df.shape)\n",
    "#print('Desription of Total Charge: \\n',medical_df['TotalCharge'].describe())"
   ]
  },
  {
   "cell_type": "markdown",
   "id": "9d10e5bf",
   "metadata": {},
   "source": [
    "No outliers were found in this feature.  The code will be commented out and preserved for later use."
   ]
  },
  {
   "cell_type": "markdown",
   "id": "6efdb44d",
   "metadata": {},
   "source": [
    "## C2. Data Exploration\n",
    "In this section, there will be calculations about the variables that are found in the dataset that will be used in the regression. Statistics will be calculated using functions like describe() to get the appropriate statistics.\n",
    "The varaibles that will be covered in this section are:\n",
    "\n",
    "| Variable | Data Type | Purpose|\n",
    "| ----------- | ----------- |---------- |\n",
    "| Children| Continuous | Predictor\n",
    "|  Age | Continuous | Predictor\n",
    "| Income | Continuous | Predictor\n",
    "| Gender | Categorical| Predictor\n",
    "| VitD_levels|Continuous|Predictor\n",
    "|Doc_visits|Continuous|Predictor\n",
    "|Initial_admin| Categorical| Predictor\n",
    "|Complication_risk|Categorical|Predictor\n",
    "| Arthritis|Categorical|Predictor\n",
    "|Diabetes|Categorical|Predictor\n",
    "|BackPain|Categorical|Predictor\n",
    "|Initial_days|Continuous| Target\n",
    "|TotalCharge|Continuous|Predictor"
   ]
  },
  {
   "cell_type": "markdown",
   "id": "2c860544",
   "metadata": {},
   "source": [
    "### Continuous Variables\n",
    "This section will display the summary statisitcs for the continuous variables for the chosen features. "
   ]
  },
  {
   "cell_type": "code",
   "execution_count": null,
   "id": "1ec36846",
   "metadata": {},
   "outputs": [],
   "source": [
    "# Citation: (Pandas.DataFrame.Select_Dtypes — Pandas 2.1.3 Documentation, n.d.)\n",
    "medical_cont_cols = medical_df.select_dtypes(include='number').columns\n",
    "\n",
    "for col_name in medical_cont_cols:\n",
    "    print(\"\\nThe summary statistics for \", col_name)\n",
    "    print(medical_df[col_name].describe())"
   ]
  },
  {
   "cell_type": "markdown",
   "id": "1bc517b2",
   "metadata": {},
   "source": [
    "### Categorical Variables\n",
    "\n",
    "This section will display the summary statistics for the categorical variables for the chosen features."
   ]
  },
  {
   "cell_type": "code",
   "execution_count": null,
   "id": "2a42022e",
   "metadata": {},
   "outputs": [],
   "source": [
    "# For categorical variables (GeeksforGeeks, 2023b).\n",
    "medical_cat_cols = medical_df.select_dtypes(include='object').columns\n",
    "\n",
    "for col_name in medical_cat_cols:\n",
    "    print(\"\\n\\nThe summary statistics for \", col_name)\n",
    "    print(medical_df[col_name].describe())\n",
    "    print(medical_df.groupby([col_name]).size())"
   ]
  },
  {
   "cell_type": "markdown",
   "id": "e8189565",
   "metadata": {},
   "source": [
    "## C3. Data Visualizations\n",
    "In this section, there will be visualizations of the dataset's features.  Ther will be both univariate and bivariate depictions of the data.  These visualizations will be included in the written document."
   ]
  },
  {
   "cell_type": "markdown",
   "id": "2575cc08",
   "metadata": {},
   "source": [
    "### Univariate Visualizations\n",
    "This section will contain data visualizations for the features that have been chosen for creating the regression model."
   ]
  },
  {
   "cell_type": "markdown",
   "id": "712501e4",
   "metadata": {},
   "source": [
    "### Continuous Visualization Variables.\n"
   ]
  },
  {
   "cell_type": "code",
   "execution_count": null,
   "id": "22a75428",
   "metadata": {},
   "outputs": [],
   "source": [
    "# Citations: (Seaborn.Histplot — Seaborn 0.13.0 Documentation, n.d.) \n",
    "# and (Creating Multiple Subplots Using Plt.Subplots — Matplotlib 3.8.2 Documentation, n.d.)\n",
    "\n",
    "fig, axs = plt.subplots(figsize=(15,15),nrows=4, ncols=2, sharex=False, sharey=False)\n",
    "fig.tight_layout(pad=5.0)\n",
    "sns.histplot(data=medical_df['Initial_days'],ax=axs[0,0]).set(title='Initial Days Count (Target)')\n",
    "sns.histplot(data=medical_df['Children'], discrete=True, ax=axs[0,1]).set(title='Children Count')\n",
    "sns.histplot(data=medical_df['Age'], ax=axs[1,0]).set(title='Age Count')\n",
    "sns.histplot(data=medical_df['Income'], ax=axs[1,1]).set(title='Income Count')\n",
    "sns.histplot(data=medical_df['VitD_levels'], ax=axs[2,0]).set(title='Vitamin D Levels Count')\n",
    "sns.histplot(data=medical_df['Doc_visits'], discrete=True, ax=axs[2,1]).set(title='Doctor Visit Count')\n",
    "sns.histplot(data=medical_df['TotalCharge'], discrete=False, ax=axs[3,0]).set(title='Total Charge Count')\n",
    "fig.delaxes(axs[3,1])\n",
    "plt.show()"
   ]
  },
  {
   "cell_type": "markdown",
   "id": "49cce99a",
   "metadata": {},
   "source": [
    "### Univariate Categorical Visualizations."
   ]
  },
  {
   "cell_type": "code",
   "execution_count": null,
   "id": "4c89f259",
   "metadata": {},
   "outputs": [],
   "source": [
    "# Citations (Seaborn.Histplot — Seaborn 0.13.0 Documentation, n.d.) \n",
    "# and (Creating Multiple Subplots Using Plt.Subplots — Matplotlib 3.8.2 Documentation, n.d.)\n",
    "\n",
    "fig, axs = plt.subplots(figsize=(15,15),nrows=3, ncols=2, sharex=False\n",
    "                        , sharey=False)\n",
    "fig.tight_layout(pad=5.0)\n",
    "sns.histplot(data=medical_df['Gender']\n",
    "             ,ax=axs[0,0]).set(title='Gender (Male, Female, Nonbinary) Count')\n",
    "sns.histplot(data=medical_df['Initial_admin']\n",
    "             ,ax=axs[0,1]).set(title='Initial Admission Count')\n",
    "sns.histplot(data=medical_df['Complication_risk']\n",
    "             ,ax=axs[1,0]).set(title='Complication Risk Count')\n",
    "sns.histplot(data=medical_df['Arthritis']\n",
    "             ,ax=axs[1,1]).set(title='Arthritis Count')\n",
    "sns.histplot(data=medical_df['Diabetes']\n",
    "             ,ax=axs[2,0]).set(title='Diabetes Count')\n",
    "sns.histplot(data=medical_df['BackPain']\n",
    "             ,ax=axs[2,1]).set(title='Back Pain Count')\n",
    "plt.show()"
   ]
  },
  {
   "cell_type": "markdown",
   "id": "3e0bebef",
   "metadata": {},
   "source": [
    "### Bivariate Visualizations\n",
    "This section will contain data visualizations for the features that have been chosen for creating the regression model."
   ]
  },
  {
   "cell_type": "markdown",
   "id": "1ab41a57",
   "metadata": {},
   "source": [
    "### Bivariate Continuous"
   ]
  },
  {
   "cell_type": "code",
   "execution_count": null,
   "id": "256012fe",
   "metadata": {},
   "outputs": [],
   "source": [
    "fig, axs = plt.subplots(figsize=(15,15),nrows=3, ncols=2, sharex=False\n",
    "                        , sharey=False)\n",
    "fig.tight_layout(pad=5.0)\n",
    "\n",
    "sns.scatterplot(x='Children', y='Initial_days',data=medical_df\n",
    "                , ax=axs[0,0]).set(title='Initial Days Count (Target) vs Children')\n",
    "sns.scatterplot(x='Age', y='Initial_days',data=medical_df\n",
    "                , ax=axs[0,1]).set(title='Initial Days Count (Target) vs Age')\n",
    "sns.scatterplot(x='Income', y='Initial_days',data=medical_df\n",
    "                , ax=axs[1,0]).set(title='Initial Days Count (Target) vs Income')\n",
    "sns.scatterplot(x='VitD_levels', y='Initial_days',data=medical_df\n",
    "                , ax=axs[1,1]).set(title='Initial Days Count (Target) vs Vitamin D Levels')\n",
    "sns.scatterplot(x='Doc_visits', y='Initial_days',data=medical_df\n",
    "                , ax=axs[2,0]).set(title='Initial Days Count (Target) vs Doctor Visits')\n",
    "sns.scatterplot(x='TotalCharge', y='Initial_days',data=medical_df\n",
    "                , ax=axs[2,1]).set(title='Initial Days Count (Target) vs TotalCharge')"
   ]
  },
  {
   "cell_type": "markdown",
   "id": "57e44c0a",
   "metadata": {},
   "source": [
    "### Bivariate Categorical"
   ]
  },
  {
   "cell_type": "code",
   "execution_count": null,
   "id": "aadcf851",
   "metadata": {},
   "outputs": [],
   "source": [
    "# Categorical variables\n",
    "# Citation (Seaborn.Violinplot() Method, n.d.)\n",
    "\n",
    "fig, axs = plt.subplots(figsize=(15,15),nrows=3, ncols=2, sharex=False\n",
    "                        , sharey=False)\n",
    "fig.tight_layout(pad=5.0)\n",
    "\n",
    "sns.set_style(\"darkgrid\")\n",
    "sns.violinplot(data=medical_df, x=\"Gender\", y=\"Initial_days\", ax=axs[0,0]\n",
    "            , dodge=False).set(title='Initial Days Count (Target) vs Gender')\n",
    "sns.violinplot(data=medical_df, x=\"Initial_admin\", y=\"Initial_days\", ax=axs[0,1]\n",
    "            , dodge=True).set(title='Initial Days Count (Target) vs Initial Admission')\n",
    "sns.violinplot(data=medical_df, x=\"Complication_risk\", y=\"Initial_days\", ax=axs[1,0]\n",
    "            , dodge=True).set(title='Initial Days Count (Target) vs Complication Risk')\n",
    "sns.violinplot(data=medical_df, x=\"Arthritis\", y=\"Initial_days\", ax=axs[1,1]\n",
    "            , dodge=True).set(title='Initial Days Count (Target) vs Arthritis')\n",
    "sns.violinplot(data=medical_df, x=\"Diabetes\", y=\"Initial_days\", ax=axs[2,0]\n",
    "            , dodge=True).set(title='Initial Days Count (Target) vs Diabetes')\n",
    "sns.violinplot(data=medical_df, x=\"BackPain\", y=\"Initial_days\", ax=axs[2,1]\n",
    "            , dodge=True).set(title='Initial Days Count (Target) vs Back Pain')\n",
    "\n",
    "plt.show()"
   ]
  },
  {
   "cell_type": "markdown",
   "id": "aeeee5c9",
   "metadata": {},
   "source": [
    "## C4. Data Transformation"
   ]
  },
  {
   "cell_type": "markdown",
   "id": "d6f8bd5f",
   "metadata": {},
   "source": [
    "### 4. Tranform/Encode the categorical variables.\n",
    "\n",
    "This step will encode the categoricals to be used in the regression model."
   ]
  },
  {
   "cell_type": "code",
   "execution_count": null,
   "id": "4017cdd4",
   "metadata": {},
   "outputs": [],
   "source": [
    "#Step 4 Transform\n",
    "medical_cats_cols = medical_df.select_dtypes(include='object').columns\n",
    "\n",
    "for name in medical_cats_cols:\n",
    "    if len(medical_df[name].unique()) > 2:\n",
    "        medical_df =   pd.get_dummies(medical_df\n",
    "               ,columns = [name]\n",
    "               ,drop_first = True,\n",
    "               prefix = name\n",
    "               )\n",
    "    else:\n",
    "        # Yes = 1 and No = 0.\n",
    "        medical_df[name].replace(['Yes','No'],[1,0] ,inplace=True)\n",
    "   \n",
    "# Remove the space from the dummie variables\n",
    "medical_df.rename(columns={\"Initial_admin_Emergency Admission\": \"Initial_admin_Emergency_Admission\"\n",
    "                           , \"Initial_admin_Observation Admission\": \"Initial_admin_Observation_Admission\"}, inplace=True)\n",
    "\n",
    "print(\"\\n\\n\\n Medical Info: \",medical_df.info())    \n",
    "\n",
    "print(medical_df.head(5))"
   ]
  },
  {
   "cell_type": "markdown",
   "id": "a4953f18",
   "metadata": {},
   "source": [
    "###  Check for multicollinearity.\n",
    "Check for multicollineariy and remove any values that are above 10."
   ]
  },
  {
   "cell_type": "code",
   "execution_count": null,
   "id": "e31e20b8",
   "metadata": {},
   "outputs": [],
   "source": [
    "# Check for multicollinearity. (GeeksforGeeks, 2023)\n",
    "\n",
    "X = medical_df[['Children','Age','Income','VitD_levels'\n",
    "                ,'Doc_visits','Arthritis', 'Diabetes','BackPain'\n",
    "                ,'TotalCharge','Gender_Male','Gender_Nonbinary'\n",
    "                ,'Initial_admin_Emergency_Admission',\n",
    "                'Initial_admin_Observation_Admission','Complication_risk_Low'\n",
    "                ,'Complication_risk_Medium']]\n",
    "\n",
    "\n",
    "print(\"Columns: \", X.columns)\n",
    "\n",
    "vif_df = pd.DataFrame()\n",
    "vif_df[\"Features\"] = X.columns \n",
    "\n",
    "print(\"\\n\\n Dataframe: \\n\", vif_df)\n",
    "\n",
    "vif_df[\"VIF\"] = [variance_inflation_factor(X.values, i) \n",
    "                          for i in range(len(X.columns))] \n",
    "\n",
    "print(\"\\n\\n\", vif_df)\n"
   ]
  },
  {
   "cell_type": "markdown",
   "id": "8e74e827",
   "metadata": {},
   "source": [
    "### Step 5. Looks at multicollinearity among the features.\n",
    "This step will look at each of the features that will be used to create the regression model. Any feature with a VIF higher than 10 will be dropped from the features that will be used to create the regression model in the next sections of the assessment.\n",
    "\n",
    "**Note:** Performing this step during the data preparation phase was discussed in Dr. Sewell's webinar.  The VIF phases is included here so the data will be ready for creating the regression model. "
   ]
  },
  {
   "cell_type": "code",
   "execution_count": null,
   "id": "846dea6f",
   "metadata": {},
   "outputs": [],
   "source": [
    "# Step 5. Looks at multicollinearity \n",
    "# Check for multicollinearity. (GeeksforGeeks, 2023a)\n",
    "\n",
    "X = medical_df[['Children','Age','Income','VitD_levels'\n",
    "                ,'Doc_visits','Arthritis', 'Diabetes','BackPain'\n",
    "                ,'TotalCharge','Gender_Male','Gender_Nonbinary'\n",
    "                ,'Initial_admin_Emergency_Admission',\n",
    "                'Initial_admin_Observation_Admission','Complication_risk_Low'\n",
    "                ,'Complication_risk_Medium']]\n",
    "\n",
    "vif_df = pd.DataFrame()\n",
    "vif_df[\"Features\"] = X.columns \n",
    "\n",
    "vif_df[\"VIF\"] = [variance_inflation_factor(X.values, i) \n",
    "                          for i in range(len(X.columns))] \n",
    "\n",
    "print(vif_df)"
   ]
  },
  {
   "cell_type": "markdown",
   "id": "394e08fb",
   "metadata": {},
   "source": [
    "Will be removing the VitD_levels from the independent features list."
   ]
  },
  {
   "cell_type": "code",
   "execution_count": null,
   "id": "707ff52a",
   "metadata": {},
   "outputs": [],
   "source": [
    "X = medical_df[['Children','Age','Income'\n",
    "                ,'Doc_visits','Arthritis', 'Diabetes','BackPain'\n",
    "                ,'TotalCharge','Gender_Male','Gender_Nonbinary'\n",
    "                ,'Initial_admin_Emergency_Admission',\n",
    "                'Initial_admin_Observation_Admission','Complication_risk_Low'\n",
    "                ,'Complication_risk_Medium']]\n",
    "\n",
    "vif_df = pd.DataFrame()\n",
    "vif_df[\"Features\"] = X.columns \n",
    "\n",
    "#print(\"\\n\\n Dataframe: \\n\", vif_df)\n",
    "\n",
    "vif_df[\"VIF\"] = [variance_inflation_factor(X.values, i) \n",
    "                          for i in range(len(X.columns))] \n",
    "\n",
    "print(\"\\n\\n Vit D Levels removed: \\n\", vif_df)"
   ]
  },
  {
   "cell_type": "markdown",
   "id": "5edb2636",
   "metadata": {},
   "source": [
    "Will be removing the Doc_visits from the independent features list."
   ]
  },
  {
   "cell_type": "code",
   "execution_count": null,
   "id": "74f19fae",
   "metadata": {},
   "outputs": [],
   "source": [
    "X = medical_df[['Children','Age','Income'\n",
    "                ,'Arthritis', 'Diabetes','BackPain'\n",
    "                ,'TotalCharge','Gender_Male','Gender_Nonbinary'\n",
    "                ,'Initial_admin_Emergency_Admission',\n",
    "                'Initial_admin_Observation_Admission','Complication_risk_Low'\n",
    "                ,'Complication_risk_Medium']]\n",
    "\n",
    "vif_df = pd.DataFrame()\n",
    "vif_df[\"Features\"] = X.columns \n",
    "\n",
    "vif_df[\"VIF\"] = [variance_inflation_factor(X.values, i) \n",
    "                          for i in range(len(X.columns))] \n",
    "\n",
    "print(\"\\n\\n Dataframe: \\n\", vif_df)"
   ]
  },
  {
   "cell_type": "markdown",
   "id": "24d48719",
   "metadata": {},
   "source": [
    "There are no longer any VIFs above 10 in the dataframe."
   ]
  },
  {
   "cell_type": "markdown",
   "id": "164ae85a",
   "metadata": {},
   "source": [
    "### Ouput of the reduced datast."
   ]
  },
  {
   "cell_type": "code",
   "execution_count": null,
   "id": "5295aff9",
   "metadata": {},
   "outputs": [],
   "source": [
    "# Reduced Dataset \n",
    "print(\"\\nValues:    \", vif_df['Features'].values )\n",
    "reduced_vif_df = medical_df[vif_df[\"Features\"].values]\n",
    "reduced_vif_df['Initial_days'] = medical_df['Initial_days']\n",
    "\n",
    "print(reduced_vif_df.info())  # new\n",
    "print(reduced_vif_df.head())"
   ]
  },
  {
   "cell_type": "markdown",
   "id": "48628a4c",
   "metadata": {},
   "source": [
    "## C5. Prepared Dataset\n",
    "The code for outputting the prepared dataset is included below.  The prepared CSV file will be included as a submission with this assessment.\n",
    "- Only variables that have passed VIF are included in this updated CSV file."
   ]
  },
  {
   "cell_type": "code",
   "execution_count": null,
   "id": "61956fab",
   "metadata": {},
   "outputs": [],
   "source": [
    "# Save the reduced dataframe to a CSV file.\n",
    "reduced_vif_df.to_csv('Heino_reduced_medical_task1.csv', index = False, header = True)"
   ]
  },
  {
   "cell_type": "markdown",
   "id": "2a47558c",
   "metadata": {},
   "source": [
    "# D. Model Comparison and Analysis\n",
    "This section will contain the code for generating the linear regression model.\n",
    "Justification for section D2 will be found in the written document that accompanies this notebook.\n",
    "\n",
    "Tasks that will be accomplished in this section are:\n",
    "- Construction of a multiple linear regression model with all variables.  \n",
    "- Construction of the reduced feature multiple regression model.  This reduction will be based on statistics that will be discussed where appropriate.\n"
   ]
  },
  {
   "cell_type": "markdown",
   "id": "35e569b5",
   "metadata": {},
   "source": [
    "## D1. Initial Model\n",
    "This section there will be a preliminary multiple linear regression created.\n"
   ]
  },
  {
   "cell_type": "code",
   "execution_count": null,
   "id": "144652a9",
   "metadata": {},
   "outputs": [],
   "source": [
    "# Read the the reduced CSV file.\n",
    "mlr_df = pd.read_csv('Heino_reduced_medical_task1.csv')\n",
    "\n",
    "print(\"Info: \", mlr_df.info())\n",
    "print(\"\\nContents: \\n\", mlr_df.head(5))\n"
   ]
  },
  {
   "cell_type": "markdown",
   "id": "53acced0",
   "metadata": {},
   "source": [
    "### Create the initial model\n",
    "The model is created with the initial target and predictor variables.\n"
   ]
  },
  {
   "cell_type": "code",
   "execution_count": null,
   "id": "0780dd56",
   "metadata": {},
   "outputs": [],
   "source": [
    "# Check to see if the VIF have changed.\n",
    "X = mlr_df[['Children','Age','Income'\n",
    "                ,'Arthritis', 'Diabetes','BackPain'\n",
    "                ,'TotalCharge','Gender_Male','Gender_Nonbinary'\n",
    "                ,'Initial_admin_Emergency_Admission',\n",
    "                'Initial_admin_Observation_Admission','Complication_risk_Low'\n",
    "                ,'Complication_risk_Medium']]\n",
    "\n",
    "vif_df = pd.DataFrame()\n",
    "vif_df[\"Features\"] = X.columns \n",
    "\n",
    "vif_df[\"VIF\"] = [variance_inflation_factor(X.values, i) \n",
    "                          for i in range(len(X.columns))] \n",
    "\n",
    "print(\"\\n\\n Dataframe: \\n\", vif_df)"
   ]
  },
  {
   "cell_type": "code",
   "execution_count": null,
   "id": "bba0cb31",
   "metadata": {},
   "outputs": [],
   "source": [
    "# Split the set into target and the predictors.\n",
    "y = mlr_df.Initial_days\n",
    "X = mlr_df.iloc[:, :-1]\n",
    "\n",
    "# create the model.\n",
    "# Citation: (statsmodels.regression.linear_model.OLS - Statsmodels 0.15.0 (+73), n.d.)\n",
    "X = sm.add_constant(X)\n",
    "mlr_model = sm.OLS(y, X)\n",
    "model_results = mlr_model.fit()\n",
    "\n",
    "# Print the results\n",
    "print(model_results.summary())"
   ]
  },
  {
   "cell_type": "code",
   "execution_count": null,
   "id": "3f4a8f0f",
   "metadata": {},
   "outputs": [],
   "source": [
    "# Model's Residual Standard Error\n",
    "# Split the set\n",
    "X_train, X_test, y_train, y_test = train_test_split(X, y, test_size= 0.30\n",
    "                                                    , random_state =1)\n",
    "mlr_pred_mod = sm.OLS(y_train, X_train).fit()\n",
    "print(mlr_pred_mod.summary())\n",
    "\n",
    "#Check to see if the attributes are available. (May be removed...)\n",
    "print(\"(Initial Model)The coefficient of determination (R-squared): \", mlr_pred_mod.rsquared)\n",
    "print(\"\\nMSE: \", mlr_pred_mod.mse_resid)\n",
    "\n",
    "# Take the square root of the MSE = residual standard error (RSE).\n",
    "mse_red = mlr_pred_mod.mse_resid\n",
    "rse = np.sqrt(mse_red)\n",
    "\n",
    "print(\"RSE is: \", rse)"
   ]
  },
  {
   "cell_type": "markdown",
   "id": "6fb704c1",
   "metadata": {},
   "source": [
    "## D2. Model Reduction Method and Justification\n",
    "This information will be found in the accompanying Word document.  Please see the appropriate section."
   ]
  },
  {
   "cell_type": "markdown",
   "id": "776c81b4",
   "metadata": {},
   "source": [
    "## D3. Reduced Model\n",
    "This section will handle the reduction of the features.  The code for this is found below. The discussion will be found in the accompanying document."
   ]
  },
  {
   "cell_type": "markdown",
   "id": "4ea9fc2e",
   "metadata": {},
   "source": [
    "### Transform \n",
    "Transform the data so the scales match."
   ]
  },
  {
   "cell_type": "code",
   "execution_count": null,
   "id": "941edacb",
   "metadata": {},
   "outputs": [],
   "source": [
    "mlr_scale_df = pd.DataFrame(preprocessing.MinMaxScaler().fit_transform(mlr_df), columns=mlr_df.columns) "
   ]
  },
  {
   "cell_type": "code",
   "execution_count": null,
   "id": "1b61728a",
   "metadata": {},
   "outputs": [],
   "source": [
    "# Reduced Model\n",
    "# Ciation: (statsmodels.regression.linear_model.OLS - Statsmodels 0.15.0 (+73), n.d.)\n",
    "red_columns = ['Children','Age','Income','Arthritis','Diabetes','BackPain', 'TotalCharge','Gender_Male'\n",
    "           , 'Gender_Nonbinary', 'Initial_admin_Emergency_Admission'\n",
    "           ,'Initial_admin_Observation_Admission','Complication_risk_Low','Complication_risk_Medium']\n",
    "\n",
    "X = mlr_scale_df[red_columns]\n",
    "X = sm.add_constant(X)\n",
    "mlr_model = sm.OLS(y, X)\n",
    "model_results = mlr_model.fit()\n",
    "\n",
    "# Print the results\n",
    "print(model_results.summary())\n"
   ]
  },
  {
   "cell_type": "code",
   "execution_count": null,
   "id": "849f04d6",
   "metadata": {},
   "outputs": [],
   "source": [
    "# Removed Children\n",
    "red_columns = ['Age','Income','Arthritis','Diabetes','BackPain', 'TotalCharge','Gender_Male'\n",
    "           , 'Gender_Nonbinary', 'Initial_admin_Emergency_Admission'\n",
    "           ,'Initial_admin_Observation_Admission','Complication_risk_Low','Complication_risk_Medium']\n",
    "\n",
    "X = mlr_scale_df[red_columns]\n",
    "X = sm.add_constant(X)\n",
    "mlr_model = sm.OLS(y, X)\n",
    "model_results = mlr_model.fit()\n",
    "\n",
    "# Print the results\n",
    "print(model_results.summary())"
   ]
  },
  {
   "cell_type": "code",
   "execution_count": null,
   "id": "3b9a6f01",
   "metadata": {},
   "outputs": [],
   "source": [
    "# Removed Initial_admin_Observation_Admission\n",
    "red_columns = ['Age','Income','Arthritis','Diabetes','BackPain', 'TotalCharge','Gender_Male'\n",
    "           , 'Gender_Nonbinary', 'Initial_admin_Emergency_Admission'\n",
    "           ,'Complication_risk_Low','Complication_risk_Medium']\n",
    "\n",
    "X = mlr_scale_df[red_columns]\n",
    "X = sm.add_constant(X)\n",
    "mlr_model = sm.OLS(y, X)\n",
    "model_results = mlr_model.fit()\n",
    "\n",
    "# Print the results\n",
    "print(model_results.summary())"
   ]
  },
  {
   "cell_type": "code",
   "execution_count": null,
   "id": "bbf0e902",
   "metadata": {},
   "outputs": [],
   "source": [
    "# Removed Income\n",
    "red_columns = ['Age','Arthritis','Diabetes','BackPain', 'TotalCharge','Gender_Male'\n",
    "           , 'Gender_Nonbinary', 'Initial_admin_Emergency_Admission'\n",
    "           ,'Complication_risk_Low','Complication_risk_Medium']\n",
    "\n",
    "X = mlr_scale_df[red_columns]\n",
    "X = sm.add_constant(X)\n",
    "mlr_model = sm.OLS(y, X)\n",
    "model_results = mlr_model.fit()\n",
    "\n",
    "# Print the results\n",
    "print(model_results.summary())"
   ]
  },
  {
   "cell_type": "code",
   "execution_count": null,
   "id": "e9f45de0",
   "metadata": {},
   "outputs": [],
   "source": [
    "# Removed Age\n",
    "red_columns = ['Arthritis','Diabetes','BackPain', 'TotalCharge','Gender_Male'\n",
    "           , 'Gender_Nonbinary', 'Initial_admin_Emergency_Admission'\n",
    "           ,'Complication_risk_Low','Complication_risk_Medium']\n",
    "\n",
    "X = mlr_scale_df[red_columns]\n",
    "X = sm.add_constant(X)\n",
    "mlr_model = sm.OLS(y, X)\n",
    "model_results = mlr_model.fit()\n",
    "\n",
    "# Print the results\n",
    "print(model_results.summary())"
   ]
  },
  {
   "cell_type": "code",
   "execution_count": null,
   "id": "c138aba2",
   "metadata": {},
   "outputs": [],
   "source": [
    "#Removed Gender_Male\n",
    "red_columns = ['Arthritis','Diabetes','BackPain', 'TotalCharge'\n",
    "           , 'Gender_Nonbinary', 'Initial_admin_Emergency_Admission'\n",
    "           ,'Complication_risk_Low','Complication_risk_Medium']\n",
    "\n",
    "X = mlr_scale_df[red_columns]\n",
    "X = sm.add_constant(X)\n",
    "mlr_model = sm.OLS(y, X)\n",
    "model_results = mlr_model.fit()\n",
    "\n",
    "# Print the results\n",
    "print(model_results.summary())"
   ]
  },
  {
   "cell_type": "code",
   "execution_count": null,
   "id": "2458d9cf",
   "metadata": {},
   "outputs": [],
   "source": [
    "#Removed Gender_Nonbinary\n",
    "red_columns = ['Arthritis','Diabetes','BackPain', 'TotalCharge'\n",
    "           ,'Initial_admin_Emergency_Admission'\n",
    "           ,'Complication_risk_Low','Complication_risk_Medium']\n",
    "\n",
    "X = mlr_scale_df[red_columns]\n",
    "X = sm.add_constant(X)\n",
    "mlr_model = sm.OLS(y, X)\n",
    "model_results = mlr_model.fit()\n",
    "\n",
    "# Print the results\n",
    "print(model_results.summary())"
   ]
  },
  {
   "cell_type": "markdown",
   "id": "6b399af6",
   "metadata": {},
   "source": [
    "# E. Model Comparison\n",
    "\n",
    "This section will be found in the written document. All discussion, summaries and other pertininent information will be found in the accompanying document.\n"
   ]
  },
  {
   "cell_type": "markdown",
   "id": "930c0c34",
   "metadata": {},
   "source": [
    "## E2. Multiple Linear Regression\n",
    "In this section:\n",
    "- Residual Plot - This will be for the reduced model.\n",
    "- Model's Residual Standard Error - This will be for the reduced model\n"
   ]
  },
  {
   "cell_type": "code",
   "execution_count": null,
   "id": "94e7ca54",
   "metadata": {},
   "outputs": [],
   "source": [
    "# The Residual Plot.(Regression Plots - Statsmodels 0.15.0 (+73), n.d.)\n",
    "# Note: The plt.clf() function used to get rid of duplicates displays of the graphs\n",
    "fig= plt.figure(figsize=[5,8])\n",
    "plot1 = sm.graphics.plot_regress_exog(model_results,'Arthritis',fig=fig)\n",
    "\n",
    "plt.show(plot1)\n",
    "plt.clf()"
   ]
  },
  {
   "cell_type": "code",
   "execution_count": null,
   "id": "a0c2692f",
   "metadata": {},
   "outputs": [],
   "source": [
    "fig= plt.figure(figsize=[5,8])\n",
    "plot1 = sm.graphics.plot_regress_exog(model_results,'Diabetes',fig=fig)\n",
    "plt.show(plot1)\n",
    "plt.clf()"
   ]
  },
  {
   "cell_type": "code",
   "execution_count": null,
   "id": "315f6798",
   "metadata": {},
   "outputs": [],
   "source": [
    "fig= plt.figure(figsize=[5,8])\n",
    "plot1 = sm.graphics.plot_regress_exog(model_results,'BackPain',fig=fig)\n",
    "\n",
    "plt.show(plot1)\n",
    "plt.clf()"
   ]
  },
  {
   "cell_type": "code",
   "execution_count": null,
   "id": "bf7da186",
   "metadata": {},
   "outputs": [],
   "source": [
    "fig= plt.figure(figsize=[5,8])\n",
    "plot1 = sm.graphics.plot_regress_exog(model_results,'TotalCharge',fig=fig)\n",
    "plt.show(plot1)\n",
    "plt.clf()"
   ]
  },
  {
   "cell_type": "code",
   "execution_count": null,
   "id": "03a45859",
   "metadata": {},
   "outputs": [],
   "source": [
    "fig= plt.figure(figsize=[8,8])\n",
    "plot1 = sm.graphics.plot_regress_exog(model_results,'Initial_admin_Emergency_Admission',fig=fig)\n",
    "\n",
    "plt.show(plot1)\n",
    "plt.clf()"
   ]
  },
  {
   "cell_type": "code",
   "execution_count": null,
   "id": "9006ec13",
   "metadata": {},
   "outputs": [],
   "source": [
    "fig= plt.figure(figsize=[5,8])\n",
    "plot1 = sm.graphics.plot_regress_exog(model_results,'Complication_risk_Low',fig=fig)\n",
    "\n",
    "plt.show(plot1)\n",
    "plt.clf()"
   ]
  },
  {
   "cell_type": "code",
   "execution_count": null,
   "id": "41b54c9f",
   "metadata": {},
   "outputs": [],
   "source": [
    "fig= plt.figure(figsize=[5,8])\n",
    "plot1 = sm.graphics.plot_regress_exog(model_results,'Complication_risk_Medium',fig=fig)\n",
    "\n",
    "plt.show(plot1)\n",
    "plt.clf()"
   ]
  },
  {
   "cell_type": "markdown",
   "id": "0be6d3af",
   "metadata": {},
   "source": [
    "### Model's Residual Standard Error\n"
   ]
  },
  {
   "cell_type": "code",
   "execution_count": null,
   "id": "5ba6e1fe",
   "metadata": {},
   "outputs": [],
   "source": [
    "# Model's Residual Standard Error\n",
    "# Split the set\n",
    "X_train, X_test, y_train, y_test = train_test_split(X, y, test_size= 0.30\n",
    "                                                    , random_state =1)\n",
    "mlr_pred_mod = sm.OLS(y_train, X_train).fit()\n",
    "print(mlr_pred_mod.summary())\n"
   ]
  },
  {
   "cell_type": "code",
   "execution_count": null,
   "id": "8347b4be",
   "metadata": {},
   "outputs": [],
   "source": [
    "# Check to see if the attributes are available. (May be removed...)\n",
    "print(\"The coefficient of determination (R-squared): \", mlr_pred_mod.rsquared)\n",
    "print(\"\\nMSE: \", mlr_pred_mod.mse_resid)"
   ]
  },
  {
   "cell_type": "code",
   "execution_count": null,
   "id": "01713bff",
   "metadata": {},
   "outputs": [],
   "source": [
    "# Take the square root of the MSE = residual standard error (RSE).\n",
    "mse_red = mlr_pred_mod.mse_resid\n",
    "rse = np.sqrt(mse_red)\n",
    "\n",
    "print(\"RSE is: \", rse)"
   ]
  },
  {
   "cell_type": "markdown",
   "id": "305adc87",
   "metadata": {},
   "source": [
    "# F. Data Summary and Implications\n",
    "\n",
    "This section will be found in the written document. All discussion, summaries and other pertininent information will be found in the accompanying document.  "
   ]
  }
 ],
 "metadata": {
  "kernelspec": {
   "display_name": "Python 3 (ipykernel)",
   "language": "python",
   "name": "python3"
  },
  "language_info": {
   "codemirror_mode": {
    "name": "ipython",
    "version": 3
   },
   "file_extension": ".py",
   "mimetype": "text/x-python",
   "name": "python",
   "nbconvert_exporter": "python",
   "pygments_lexer": "ipython3",
   "version": "3.7.1"
  }
 },
 "nbformat": 4,
 "nbformat_minor": 5
}
